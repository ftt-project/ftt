{
 "metadata": {
  "language_info": {
   "codemirror_mode": {
    "name": "ipython",
    "version": 3
   },
   "file_extension": ".py",
   "mimetype": "text/x-python",
   "name": "python",
   "nbconvert_exporter": "python",
   "pygments_lexer": "ipython3",
   "version": "3.8.3-final"
  },
  "orig_nbformat": 2,
  "kernelspec": {
   "name": "python3",
   "display_name": "Python 3",
   "language": "python"
  }
 },
 "nbformat": 4,
 "nbformat_minor": 2,
 "cells": [
  {
   "cell_type": "code",
   "execution_count": 2,
   "metadata": {},
   "outputs": [],
   "source": [
    "%load_ext autoreload\n",
    "%autoreload 2\n",
    "%matplotlib inline\n",
    "\n",
    "import pandas as pd\n",
    "import numpy as np\n",
    "import os,sys,inspect\n",
    "\n",
    "current_dir = os.path.dirname(os.path.abspath(inspect.getfile(inspect.currentframe())))\n",
    "parent_dir = os.path.dirname(current_dir)\n",
    "sys.path.insert(0, parent_dir)\n",
    "import edhec_risk_kit as erk\n",
    "\n",
    "import ipywidgets as widgets\n",
    "from IPython.display import display"
   ]
  },
  {
   "cell_type": "code",
   "execution_count": 12,
   "metadata": {},
   "outputs": [
    {
     "output_type": "display_data",
     "data": {
      "text/plain": "interactive(children=(IntSlider(value=50, description='n_scenarios', max=1000, min=1, step=5), FloatSlider(val…",
      "application/vnd.jupyter.widget-view+json": {
       "version_major": 2,
       "version_minor": 0,
       "model_id": "77da1ceeb8f44b80852389efcbace5a3"
      }
     },
     "metadata": {}
    }
   ],
   "source": [
    "import matplotlib.pyplot as plt\n",
    "import numpy as np\n",
    "\n",
    "def show_cppi(n_scenarios=50, mu=0.07, sigma=0.15, m=3, floor=0., riskfree_rate=0.03, steps_per_year=12, y_max=100):\n",
    "    \"\"\"\n",
    "    Plot the results of a Monte Carlo Simulation of CPPI\n",
    "    \"\"\"\n",
    "    start = 100\n",
    "    sim_rets = erk.gbm(n_scenarios=n_scenarios, mu=mu, sigma=sigma, prices=False, steps_per_year=steps_per_year)\n",
    "    risky_r = pd.DataFrame(sim_rets)\n",
    "    # run the \"back\"-test\n",
    "    btr = erk.run_cppi(risky_r=pd.DataFrame(risky_r),riskfree_rate=riskfree_rate,m=m, start=start, floor=floor)\n",
    "    wealth = btr[\"Wealth\"]\n",
    "\n",
    "    # calculate terminal wealth stats\n",
    "    y_max=wealth.values.max()*y_max/100\n",
    "    terminal_wealth = wealth.iloc[-1]\n",
    "    \n",
    "    tw_mean = terminal_wealth.mean()\n",
    "    tw_median = terminal_wealth.median()\n",
    "    failure_mask = np.less(terminal_wealth, start*floor)\n",
    "    n_failures = failure_mask.sum()\n",
    "    p_fail = n_failures/n_scenarios\n",
    "\n",
    "    tw_max = terminal_wealth.max()\n",
    "    tw_min = terminal_wealth.min()\n",
    "    tw_difference = tw_max - tw_min\n",
    "\n",
    "    # expected short fall\n",
    "    e_shortfall = np.dot(terminal_wealth-start*floor, failure_mask)/n_failures if n_failures > 0 else 0.0\n",
    "\n",
    "    # Plot!\n",
    "    fig, (wealth_ax, hist_ax) = plt.subplots(nrows=1, ncols=2, sharey=True, gridspec_kw={'width_ratios':[3,2]}, figsize=(24, 9))\n",
    "    plt.subplots_adjust(wspace=0.0)\n",
    "    \n",
    "    wealth.plot(ax=wealth_ax, legend=False, alpha=0.3, color=\"indianred\")\n",
    "    wealth_ax.axhline(y=start, ls=\":\", color=\"black\")\n",
    "    wealth_ax.axhline(y=start*floor, ls=\"--\", color=\"red\")\n",
    "    wealth_ax.set_ylim(top=y_max)\n",
    "    \n",
    "    terminal_wealth.plot.hist(ax=hist_ax, bins=50, ec='w', fc='indianred', orientation='horizontal')\n",
    "    hist_ax.axhline(y=start, ls=\":\", color=\"black\")\n",
    "    hist_ax.axhline(y=tw_mean, ls=\":\", color=\"blue\")\n",
    "    hist_ax.axhline(y=tw_median, ls=\":\", color=\"purple\")\n",
    "    hist_ax.annotate(f\"Mean: ${int(tw_mean)}\", xy=(.7, .9),xycoords='axes fraction', fontsize=24)\n",
    "    hist_ax.annotate(f\"Median: ${int(tw_median)}\", xy=(.7, .85),xycoords='axes fraction', fontsize=24)\n",
    "    hist_ax.annotate(f\"WSS: ${int(tw_min)}\", xy=(.7, .80),xycoords='axes fraction', fontsize=24)\n",
    "    if (floor > 0.01):\n",
    "        hist_ax.axhline(y=start*floor, ls=\"--\", color=\"red\", linewidth=3)\n",
    "        hist_ax.annotate(f\"Violations: {n_failures} ({p_fail*100:2.2f}%)\\nE(shortfall)=${e_shortfall:2.2f}\", xy=(.7, .7), xycoords='axes fraction', fontsize=24)\n",
    "\n",
    "cppi_controls = widgets.interactive(show_cppi,\n",
    "                                   n_scenarios=widgets.IntSlider(min=1, max=1000, step=5, value=50), \n",
    "                                   mu=(0., +.2, .01),\n",
    "                                   sigma=(0, .45, .05),\n",
    "                                   floor=(0, 2, .1),\n",
    "                                   m=(1, 5, .5),\n",
    "                                   riskfree_rate=(0, .05, .01),\n",
    "                                   steps_per_year=widgets.IntSlider(min=1, max=12, step=1, value=12,\n",
    "                                                          description=\"Rebals/Year\"),\n",
    "                                   y_max=widgets.IntSlider(min=0, max=100, step=1, value=100,\n",
    "                                                          description=\"Zoom Y Axis\")\n",
    ")\n",
    "display(cppi_controls)"
   ]
  },
  {
   "cell_type": "code",
   "execution_count": 74,
   "metadata": {},
   "outputs": [],
   "source": [
    "def q3_increase_mu(n_scenarios=500, mu=0.00, sigma=0.15, m=3, floor=0.7, riskfree_rate=0.03, steps_per_year=12, y_max=100):\n",
    "    start = 100    \n",
    "    mu = mu/100\n",
    "    sim_rets = erk.gbm(n_scenarios=n_scenarios, mu=mu, sigma=sigma, prices=False, steps_per_year=steps_per_year)\n",
    "    risky_r = pd.DataFrame(sim_rets)\n",
    "    # run the \"back\"-test\n",
    "    btr = erk.run_cppi(risky_r=pd.DataFrame(risky_r),riskfree_rate=riskfree_rate,m=m, start=start, floor=floor)\n",
    "    wealth = btr[\"Wealth\"]\n",
    "    \n",
    "    # calculate terminal wealth stats\n",
    "    y_max=wealth.values.max()*y_max/100\n",
    "    terminal_wealth = wealth.iloc[-1]\n",
    "    \n",
    "    tw_mean = terminal_wealth.mean()\n",
    "    tw_median = terminal_wealth.median()\n",
    "    tw_max = terminal_wealth.max()\n",
    "    tw_min = terminal_wealth.min()\n",
    "    tw_diff = tw_max - tw_min\n",
    "    failure_mask = np.less(terminal_wealth, start*floor)\n",
    "    n_failures = failure_mask.sum()\n",
    "    p_fail = n_failures/n_scenarios\n",
    "\n",
    "    e_shortfall = np.dot(terminal_wealth-start*floor, failure_mask)/n_failures if n_failures > 0 else 0.0\n",
    "\n",
    "    return {\"MU\": mu, \"Mean\": tw_mean, \"Median\": tw_median, \"Diff\": tw_diff, \"Worst case\": tw_min, \"N Failures\": n_failures, \"Exp. Shortfall\": e_shortfall}"
   ]
  },
  {
   "source": [
    "### Question 1"
   ],
   "cell_type": "markdown",
   "metadata": {}
  },
  {
   "cell_type": "code",
   "execution_count": 75,
   "metadata": {},
   "outputs": [
    {
     "output_type": "execute_result",
     "data": {
      "text/plain": [
       "     MU        Mean     Median        Diff  Worst case  N Failures  \\\n",
       "0   0.0   98.511100  85.932129  342.029924   24.403063           0   \n",
       "1   0.0   98.876311  88.752786  287.284723   19.866136           0   \n",
       "2   0.0  102.125761  93.852033  363.193458   27.908043           0   \n",
       "3   0.0   99.979737  88.744229  398.616623   18.580741           0   \n",
       "4   0.0   94.799140  85.445318  288.081693   18.391444           0   \n",
       "5   0.0   97.369105  90.202211  280.504120   18.290706           0   \n",
       "6   0.0   99.715031  88.409942  336.932324   23.950372           0   \n",
       "7   0.0  101.494227  86.905313  310.070194   26.798568           0   \n",
       "8   0.0   97.352327  89.135032  381.418944   24.099122           0   \n",
       "9   0.0   95.436614  86.528752  280.313462   14.528466           0   \n",
       "10  0.0  105.315249  93.554138  362.881441   22.686866           0   \n",
       "11  0.0  101.147313  89.582180  302.380526   20.420574           0   \n",
       "12  0.0   96.134656  84.657960  299.470713   25.780153           0   \n",
       "13  0.0   98.946101  86.905202  394.564546   21.998354           0   \n",
       "14  0.0  100.071534  87.645744  323.731406   19.145917           0   \n",
       "15  0.0   98.862639  87.939774  324.432199   20.366928           0   \n",
       "16  0.0  101.151929  89.687516  333.014849   26.343190           0   \n",
       "17  0.0   97.425629  87.103904  318.239420   19.066647           0   \n",
       "18  0.0  100.322876  87.993663  385.044036   19.103372           0   \n",
       "19  0.0  100.983982  92.979462  352.082959   25.745303           0   \n",
       "20  0.0   98.341413  90.154967  318.917115   20.808090           0   \n",
       "21  0.0   97.756336  90.478432  325.873154   15.448124           0   \n",
       "22  0.0  100.288817  92.191730  273.295418   23.063976           0   \n",
       "23  0.0   99.461402  89.717135  305.892769   22.660901           0   \n",
       "24  0.0  100.220854  89.678386  372.113837   21.298404           0   \n",
       "25  0.0  100.965002  87.845671  374.627302   23.680833           0   \n",
       "26  0.0  100.827478  90.898116  274.318734   21.218035           0   \n",
       "27  0.0  100.972568  88.719546  332.913292   15.887599           0   \n",
       "28  0.0   98.643316  90.497306  390.948338   20.837939           0   \n",
       "29  0.0  100.472087  92.144376  317.620975   21.020026           0   \n",
       "30  0.0   99.836902  88.350757  298.631156   11.789956           0   \n",
       "31  0.0   98.770484  86.015941  362.754852   21.516238           0   \n",
       "32  0.0   98.783183  88.899923  288.656405   25.579724           0   \n",
       "33  0.0  103.067870  91.583602  306.109335   20.371298           0   \n",
       "34  0.0   94.192083  85.917633  300.357359   22.639456           0   \n",
       "35  0.0   99.658555  89.971271  284.488285   16.924697           0   \n",
       "36  0.0   99.601109  87.253697  266.184181   24.207233           0   \n",
       "37  0.0   98.713544  89.990881  406.890757   14.320826           0   \n",
       "38  0.0  100.640778  92.198850  271.888068   22.144519           0   \n",
       "39  0.0  103.086369  87.553498  385.639150   19.057767           0   \n",
       "40  0.0   98.349972  90.130336  260.837149   25.071472           0   \n",
       "41  0.0  101.732711  89.787871  505.606885   17.942264           0   \n",
       "42  0.0  102.193050  88.646764  298.339617   20.728106           0   \n",
       "43  0.0   98.810698  87.574056  364.224263   20.253965           0   \n",
       "44  0.0  100.843751  91.632059  653.319093   21.379160           0   \n",
       "45  0.0   98.460732  89.612455  390.549340   20.276935           0   \n",
       "46  0.0  100.290896  89.672938  376.422123   18.459864           0   \n",
       "47  0.0   97.775082  86.673319  340.533172   21.248437           0   \n",
       "48  0.0  100.975678  88.042144  423.098430   20.967225           0   \n",
       "49  0.0   98.668084  88.501126  321.470258   23.486748           0   \n",
       "\n",
       "    Exp. Shortfall  \n",
       "0              0.0  \n",
       "1              0.0  \n",
       "2              0.0  \n",
       "3              0.0  \n",
       "4              0.0  \n",
       "5              0.0  \n",
       "6              0.0  \n",
       "7              0.0  \n",
       "8              0.0  \n",
       "9              0.0  \n",
       "10             0.0  \n",
       "11             0.0  \n",
       "12             0.0  \n",
       "13             0.0  \n",
       "14             0.0  \n",
       "15             0.0  \n",
       "16             0.0  \n",
       "17             0.0  \n",
       "18             0.0  \n",
       "19             0.0  \n",
       "20             0.0  \n",
       "21             0.0  \n",
       "22             0.0  \n",
       "23             0.0  \n",
       "24             0.0  \n",
       "25             0.0  \n",
       "26             0.0  \n",
       "27             0.0  \n",
       "28             0.0  \n",
       "29             0.0  \n",
       "30             0.0  \n",
       "31             0.0  \n",
       "32             0.0  \n",
       "33             0.0  \n",
       "34             0.0  \n",
       "35             0.0  \n",
       "36             0.0  \n",
       "37             0.0  \n",
       "38             0.0  \n",
       "39             0.0  \n",
       "40             0.0  \n",
       "41             0.0  \n",
       "42             0.0  \n",
       "43             0.0  \n",
       "44             0.0  \n",
       "45             0.0  \n",
       "46             0.0  \n",
       "47             0.0  \n",
       "48             0.0  \n",
       "49             0.0  "
      ],
      "text/html": "<div>\n<style scoped>\n    .dataframe tbody tr th:only-of-type {\n        vertical-align: middle;\n    }\n\n    .dataframe tbody tr th {\n        vertical-align: top;\n    }\n\n    .dataframe thead th {\n        text-align: right;\n    }\n</style>\n<table border=\"1\" class=\"dataframe\">\n  <thead>\n    <tr style=\"text-align: right;\">\n      <th></th>\n      <th>MU</th>\n      <th>Mean</th>\n      <th>Median</th>\n      <th>Diff</th>\n      <th>Worst case</th>\n      <th>N Failures</th>\n      <th>Exp. Shortfall</th>\n    </tr>\n  </thead>\n  <tbody>\n    <tr>\n      <th>0</th>\n      <td>0.0</td>\n      <td>98.511100</td>\n      <td>85.932129</td>\n      <td>342.029924</td>\n      <td>24.403063</td>\n      <td>0</td>\n      <td>0.0</td>\n    </tr>\n    <tr>\n      <th>1</th>\n      <td>0.0</td>\n      <td>98.876311</td>\n      <td>88.752786</td>\n      <td>287.284723</td>\n      <td>19.866136</td>\n      <td>0</td>\n      <td>0.0</td>\n    </tr>\n    <tr>\n      <th>2</th>\n      <td>0.0</td>\n      <td>102.125761</td>\n      <td>93.852033</td>\n      <td>363.193458</td>\n      <td>27.908043</td>\n      <td>0</td>\n      <td>0.0</td>\n    </tr>\n    <tr>\n      <th>3</th>\n      <td>0.0</td>\n      <td>99.979737</td>\n      <td>88.744229</td>\n      <td>398.616623</td>\n      <td>18.580741</td>\n      <td>0</td>\n      <td>0.0</td>\n    </tr>\n    <tr>\n      <th>4</th>\n      <td>0.0</td>\n      <td>94.799140</td>\n      <td>85.445318</td>\n      <td>288.081693</td>\n      <td>18.391444</td>\n      <td>0</td>\n      <td>0.0</td>\n    </tr>\n    <tr>\n      <th>5</th>\n      <td>0.0</td>\n      <td>97.369105</td>\n      <td>90.202211</td>\n      <td>280.504120</td>\n      <td>18.290706</td>\n      <td>0</td>\n      <td>0.0</td>\n    </tr>\n    <tr>\n      <th>6</th>\n      <td>0.0</td>\n      <td>99.715031</td>\n      <td>88.409942</td>\n      <td>336.932324</td>\n      <td>23.950372</td>\n      <td>0</td>\n      <td>0.0</td>\n    </tr>\n    <tr>\n      <th>7</th>\n      <td>0.0</td>\n      <td>101.494227</td>\n      <td>86.905313</td>\n      <td>310.070194</td>\n      <td>26.798568</td>\n      <td>0</td>\n      <td>0.0</td>\n    </tr>\n    <tr>\n      <th>8</th>\n      <td>0.0</td>\n      <td>97.352327</td>\n      <td>89.135032</td>\n      <td>381.418944</td>\n      <td>24.099122</td>\n      <td>0</td>\n      <td>0.0</td>\n    </tr>\n    <tr>\n      <th>9</th>\n      <td>0.0</td>\n      <td>95.436614</td>\n      <td>86.528752</td>\n      <td>280.313462</td>\n      <td>14.528466</td>\n      <td>0</td>\n      <td>0.0</td>\n    </tr>\n    <tr>\n      <th>10</th>\n      <td>0.0</td>\n      <td>105.315249</td>\n      <td>93.554138</td>\n      <td>362.881441</td>\n      <td>22.686866</td>\n      <td>0</td>\n      <td>0.0</td>\n    </tr>\n    <tr>\n      <th>11</th>\n      <td>0.0</td>\n      <td>101.147313</td>\n      <td>89.582180</td>\n      <td>302.380526</td>\n      <td>20.420574</td>\n      <td>0</td>\n      <td>0.0</td>\n    </tr>\n    <tr>\n      <th>12</th>\n      <td>0.0</td>\n      <td>96.134656</td>\n      <td>84.657960</td>\n      <td>299.470713</td>\n      <td>25.780153</td>\n      <td>0</td>\n      <td>0.0</td>\n    </tr>\n    <tr>\n      <th>13</th>\n      <td>0.0</td>\n      <td>98.946101</td>\n      <td>86.905202</td>\n      <td>394.564546</td>\n      <td>21.998354</td>\n      <td>0</td>\n      <td>0.0</td>\n    </tr>\n    <tr>\n      <th>14</th>\n      <td>0.0</td>\n      <td>100.071534</td>\n      <td>87.645744</td>\n      <td>323.731406</td>\n      <td>19.145917</td>\n      <td>0</td>\n      <td>0.0</td>\n    </tr>\n    <tr>\n      <th>15</th>\n      <td>0.0</td>\n      <td>98.862639</td>\n      <td>87.939774</td>\n      <td>324.432199</td>\n      <td>20.366928</td>\n      <td>0</td>\n      <td>0.0</td>\n    </tr>\n    <tr>\n      <th>16</th>\n      <td>0.0</td>\n      <td>101.151929</td>\n      <td>89.687516</td>\n      <td>333.014849</td>\n      <td>26.343190</td>\n      <td>0</td>\n      <td>0.0</td>\n    </tr>\n    <tr>\n      <th>17</th>\n      <td>0.0</td>\n      <td>97.425629</td>\n      <td>87.103904</td>\n      <td>318.239420</td>\n      <td>19.066647</td>\n      <td>0</td>\n      <td>0.0</td>\n    </tr>\n    <tr>\n      <th>18</th>\n      <td>0.0</td>\n      <td>100.322876</td>\n      <td>87.993663</td>\n      <td>385.044036</td>\n      <td>19.103372</td>\n      <td>0</td>\n      <td>0.0</td>\n    </tr>\n    <tr>\n      <th>19</th>\n      <td>0.0</td>\n      <td>100.983982</td>\n      <td>92.979462</td>\n      <td>352.082959</td>\n      <td>25.745303</td>\n      <td>0</td>\n      <td>0.0</td>\n    </tr>\n    <tr>\n      <th>20</th>\n      <td>0.0</td>\n      <td>98.341413</td>\n      <td>90.154967</td>\n      <td>318.917115</td>\n      <td>20.808090</td>\n      <td>0</td>\n      <td>0.0</td>\n    </tr>\n    <tr>\n      <th>21</th>\n      <td>0.0</td>\n      <td>97.756336</td>\n      <td>90.478432</td>\n      <td>325.873154</td>\n      <td>15.448124</td>\n      <td>0</td>\n      <td>0.0</td>\n    </tr>\n    <tr>\n      <th>22</th>\n      <td>0.0</td>\n      <td>100.288817</td>\n      <td>92.191730</td>\n      <td>273.295418</td>\n      <td>23.063976</td>\n      <td>0</td>\n      <td>0.0</td>\n    </tr>\n    <tr>\n      <th>23</th>\n      <td>0.0</td>\n      <td>99.461402</td>\n      <td>89.717135</td>\n      <td>305.892769</td>\n      <td>22.660901</td>\n      <td>0</td>\n      <td>0.0</td>\n    </tr>\n    <tr>\n      <th>24</th>\n      <td>0.0</td>\n      <td>100.220854</td>\n      <td>89.678386</td>\n      <td>372.113837</td>\n      <td>21.298404</td>\n      <td>0</td>\n      <td>0.0</td>\n    </tr>\n    <tr>\n      <th>25</th>\n      <td>0.0</td>\n      <td>100.965002</td>\n      <td>87.845671</td>\n      <td>374.627302</td>\n      <td>23.680833</td>\n      <td>0</td>\n      <td>0.0</td>\n    </tr>\n    <tr>\n      <th>26</th>\n      <td>0.0</td>\n      <td>100.827478</td>\n      <td>90.898116</td>\n      <td>274.318734</td>\n      <td>21.218035</td>\n      <td>0</td>\n      <td>0.0</td>\n    </tr>\n    <tr>\n      <th>27</th>\n      <td>0.0</td>\n      <td>100.972568</td>\n      <td>88.719546</td>\n      <td>332.913292</td>\n      <td>15.887599</td>\n      <td>0</td>\n      <td>0.0</td>\n    </tr>\n    <tr>\n      <th>28</th>\n      <td>0.0</td>\n      <td>98.643316</td>\n      <td>90.497306</td>\n      <td>390.948338</td>\n      <td>20.837939</td>\n      <td>0</td>\n      <td>0.0</td>\n    </tr>\n    <tr>\n      <th>29</th>\n      <td>0.0</td>\n      <td>100.472087</td>\n      <td>92.144376</td>\n      <td>317.620975</td>\n      <td>21.020026</td>\n      <td>0</td>\n      <td>0.0</td>\n    </tr>\n    <tr>\n      <th>30</th>\n      <td>0.0</td>\n      <td>99.836902</td>\n      <td>88.350757</td>\n      <td>298.631156</td>\n      <td>11.789956</td>\n      <td>0</td>\n      <td>0.0</td>\n    </tr>\n    <tr>\n      <th>31</th>\n      <td>0.0</td>\n      <td>98.770484</td>\n      <td>86.015941</td>\n      <td>362.754852</td>\n      <td>21.516238</td>\n      <td>0</td>\n      <td>0.0</td>\n    </tr>\n    <tr>\n      <th>32</th>\n      <td>0.0</td>\n      <td>98.783183</td>\n      <td>88.899923</td>\n      <td>288.656405</td>\n      <td>25.579724</td>\n      <td>0</td>\n      <td>0.0</td>\n    </tr>\n    <tr>\n      <th>33</th>\n      <td>0.0</td>\n      <td>103.067870</td>\n      <td>91.583602</td>\n      <td>306.109335</td>\n      <td>20.371298</td>\n      <td>0</td>\n      <td>0.0</td>\n    </tr>\n    <tr>\n      <th>34</th>\n      <td>0.0</td>\n      <td>94.192083</td>\n      <td>85.917633</td>\n      <td>300.357359</td>\n      <td>22.639456</td>\n      <td>0</td>\n      <td>0.0</td>\n    </tr>\n    <tr>\n      <th>35</th>\n      <td>0.0</td>\n      <td>99.658555</td>\n      <td>89.971271</td>\n      <td>284.488285</td>\n      <td>16.924697</td>\n      <td>0</td>\n      <td>0.0</td>\n    </tr>\n    <tr>\n      <th>36</th>\n      <td>0.0</td>\n      <td>99.601109</td>\n      <td>87.253697</td>\n      <td>266.184181</td>\n      <td>24.207233</td>\n      <td>0</td>\n      <td>0.0</td>\n    </tr>\n    <tr>\n      <th>37</th>\n      <td>0.0</td>\n      <td>98.713544</td>\n      <td>89.990881</td>\n      <td>406.890757</td>\n      <td>14.320826</td>\n      <td>0</td>\n      <td>0.0</td>\n    </tr>\n    <tr>\n      <th>38</th>\n      <td>0.0</td>\n      <td>100.640778</td>\n      <td>92.198850</td>\n      <td>271.888068</td>\n      <td>22.144519</td>\n      <td>0</td>\n      <td>0.0</td>\n    </tr>\n    <tr>\n      <th>39</th>\n      <td>0.0</td>\n      <td>103.086369</td>\n      <td>87.553498</td>\n      <td>385.639150</td>\n      <td>19.057767</td>\n      <td>0</td>\n      <td>0.0</td>\n    </tr>\n    <tr>\n      <th>40</th>\n      <td>0.0</td>\n      <td>98.349972</td>\n      <td>90.130336</td>\n      <td>260.837149</td>\n      <td>25.071472</td>\n      <td>0</td>\n      <td>0.0</td>\n    </tr>\n    <tr>\n      <th>41</th>\n      <td>0.0</td>\n      <td>101.732711</td>\n      <td>89.787871</td>\n      <td>505.606885</td>\n      <td>17.942264</td>\n      <td>0</td>\n      <td>0.0</td>\n    </tr>\n    <tr>\n      <th>42</th>\n      <td>0.0</td>\n      <td>102.193050</td>\n      <td>88.646764</td>\n      <td>298.339617</td>\n      <td>20.728106</td>\n      <td>0</td>\n      <td>0.0</td>\n    </tr>\n    <tr>\n      <th>43</th>\n      <td>0.0</td>\n      <td>98.810698</td>\n      <td>87.574056</td>\n      <td>364.224263</td>\n      <td>20.253965</td>\n      <td>0</td>\n      <td>0.0</td>\n    </tr>\n    <tr>\n      <th>44</th>\n      <td>0.0</td>\n      <td>100.843751</td>\n      <td>91.632059</td>\n      <td>653.319093</td>\n      <td>21.379160</td>\n      <td>0</td>\n      <td>0.0</td>\n    </tr>\n    <tr>\n      <th>45</th>\n      <td>0.0</td>\n      <td>98.460732</td>\n      <td>89.612455</td>\n      <td>390.549340</td>\n      <td>20.276935</td>\n      <td>0</td>\n      <td>0.0</td>\n    </tr>\n    <tr>\n      <th>46</th>\n      <td>0.0</td>\n      <td>100.290896</td>\n      <td>89.672938</td>\n      <td>376.422123</td>\n      <td>18.459864</td>\n      <td>0</td>\n      <td>0.0</td>\n    </tr>\n    <tr>\n      <th>47</th>\n      <td>0.0</td>\n      <td>97.775082</td>\n      <td>86.673319</td>\n      <td>340.533172</td>\n      <td>21.248437</td>\n      <td>0</td>\n      <td>0.0</td>\n    </tr>\n    <tr>\n      <th>48</th>\n      <td>0.0</td>\n      <td>100.975678</td>\n      <td>88.042144</td>\n      <td>423.098430</td>\n      <td>20.967225</td>\n      <td>0</td>\n      <td>0.0</td>\n    </tr>\n    <tr>\n      <th>49</th>\n      <td>0.0</td>\n      <td>98.668084</td>\n      <td>88.501126</td>\n      <td>321.470258</td>\n      <td>23.486748</td>\n      <td>0</td>\n      <td>0.0</td>\n    </tr>\n  </tbody>\n</table>\n</div>"
     },
     "metadata": {},
     "execution_count": 75
    }
   ],
   "source": [
    "rows_list = []\n",
    "for n_scenarios in range(450, 500):\n",
    "    result = q3_increase_mu(n_scenarios=n_scenarios, floor=0)\n",
    "    rows_list.append(result)\n",
    "pd.DataFrame(rows_list)"
   ]
  },
  {
   "cell_type": "code",
   "execution_count": 81,
   "metadata": {},
   "outputs": [
    {
     "output_type": "execute_result",
     "data": {
      "text/plain": [
       "                     diff\n",
       "riskfree_rate            \n",
       "0.0075         336.890646\n",
       "0.0100         299.109117\n",
       "0.0150         353.039691\n",
       "0.0200         365.182253\n",
       "0.0250         391.809322\n",
       "0.0300         316.941441\n",
       "0.0500         341.954249\n",
       "0.1000         321.984201"
      ],
      "text/html": "<div>\n<style scoped>\n    .dataframe tbody tr th:only-of-type {\n        vertical-align: middle;\n    }\n\n    .dataframe tbody tr th {\n        vertical-align: top;\n    }\n\n    .dataframe thead th {\n        text-align: right;\n    }\n</style>\n<table border=\"1\" class=\"dataframe\">\n  <thead>\n    <tr style=\"text-align: right;\">\n      <th></th>\n      <th>diff</th>\n    </tr>\n    <tr>\n      <th>riskfree_rate</th>\n      <th></th>\n    </tr>\n  </thead>\n  <tbody>\n    <tr>\n      <th>0.0075</th>\n      <td>336.890646</td>\n    </tr>\n    <tr>\n      <th>0.0100</th>\n      <td>299.109117</td>\n    </tr>\n    <tr>\n      <th>0.0150</th>\n      <td>353.039691</td>\n    </tr>\n    <tr>\n      <th>0.0200</th>\n      <td>365.182253</td>\n    </tr>\n    <tr>\n      <th>0.0250</th>\n      <td>391.809322</td>\n    </tr>\n    <tr>\n      <th>0.0300</th>\n      <td>316.941441</td>\n    </tr>\n    <tr>\n      <th>0.0500</th>\n      <td>341.954249</td>\n    </tr>\n    <tr>\n      <th>0.1000</th>\n      <td>321.984201</td>\n    </tr>\n  </tbody>\n</table>\n</div>"
     },
     "metadata": {},
     "execution_count": 81
    }
   ],
   "source": [
    "rows_list = []\n",
    "riskfree_rates = [.0075, .01, .015, .02, .025, .03, .05, .1]\n",
    "n_scenarioss = [500, 510, 520, 530, 540, 550]\n",
    "for riskfree_rate in riskfree_rates:\n",
    "    for n_scenarios in n_scenarioss:\n",
    "        result = q3_increase_mu(riskfree_rate=riskfree_rate, floor=0, n_scenarios=n_scenarios)\n",
    "        rows_list.append({\"n_scenarios\": n_scenarios, \"riskfree_rate\": riskfree_rate, \"diff\": result[\"Diff\"]})\n",
    "frame = pd.DataFrame(rows_list)\n",
    "frame[[\"riskfree_rate\", \"diff\"]].groupby(\"riskfree_rate\").mean()"
   ]
  },
  {
   "source": [
    "## Increase mu 0 -> 0.2\n",
    "### Question 3"
   ],
   "cell_type": "markdown",
   "metadata": {}
  },
  {
   "cell_type": "code",
   "execution_count": 44,
   "metadata": {},
   "outputs": [
    {
     "output_type": "execute_result",
     "data": {
      "text/plain": [
       "      MU        Mean      Median  Worst case  N Failures\n",
       "0   0.00  108.189395   91.348853   72.754900           0\n",
       "1   0.01  114.249051   95.346833   73.265659           0\n",
       "2   0.02  125.889103  107.354306   73.256806           0\n",
       "3   0.03  133.802884  112.537454   74.262638           0\n",
       "4   0.04  152.167037  130.058857   74.565502           0\n",
       "5   0.05  160.985936  140.687104   72.489478           0\n",
       "6   0.06  178.287132  155.004451   74.593786           0\n",
       "7   0.07  199.795164  176.796738   74.027974           0\n",
       "8   0.08  213.489798  188.415711   76.955991           0\n",
       "9   0.09  231.193478  203.997720   74.719331           0\n",
       "10  0.10  252.826685  229.082509   75.669037           0\n",
       "11  0.11  277.536598  237.903226   77.674719           0\n",
       "12  0.12  315.045083  280.189008   84.907604           0\n",
       "13  0.13  328.122868  284.261531   85.572722           0\n",
       "14  0.14  368.083511  334.567731   82.226854           0\n",
       "15  0.15  412.537748  369.484895   88.457939           0\n",
       "16  0.16  442.670362  388.829838   94.511768           0\n",
       "17  0.17  470.264828  420.879769   81.387754           0\n",
       "18  0.18  513.154353  448.844572   92.846876           0\n",
       "19  0.19  565.634530  503.013247  138.979604           0\n",
       "20  0.20  626.436275  567.519291  134.003557           0"
      ],
      "text/html": "<div>\n<style scoped>\n    .dataframe tbody tr th:only-of-type {\n        vertical-align: middle;\n    }\n\n    .dataframe tbody tr th {\n        vertical-align: top;\n    }\n\n    .dataframe thead th {\n        text-align: right;\n    }\n</style>\n<table border=\"1\" class=\"dataframe\">\n  <thead>\n    <tr style=\"text-align: right;\">\n      <th></th>\n      <th>MU</th>\n      <th>Mean</th>\n      <th>Median</th>\n      <th>Worst case</th>\n      <th>N Failures</th>\n    </tr>\n  </thead>\n  <tbody>\n    <tr>\n      <th>0</th>\n      <td>0.00</td>\n      <td>108.189395</td>\n      <td>91.348853</td>\n      <td>72.754900</td>\n      <td>0</td>\n    </tr>\n    <tr>\n      <th>1</th>\n      <td>0.01</td>\n      <td>114.249051</td>\n      <td>95.346833</td>\n      <td>73.265659</td>\n      <td>0</td>\n    </tr>\n    <tr>\n      <th>2</th>\n      <td>0.02</td>\n      <td>125.889103</td>\n      <td>107.354306</td>\n      <td>73.256806</td>\n      <td>0</td>\n    </tr>\n    <tr>\n      <th>3</th>\n      <td>0.03</td>\n      <td>133.802884</td>\n      <td>112.537454</td>\n      <td>74.262638</td>\n      <td>0</td>\n    </tr>\n    <tr>\n      <th>4</th>\n      <td>0.04</td>\n      <td>152.167037</td>\n      <td>130.058857</td>\n      <td>74.565502</td>\n      <td>0</td>\n    </tr>\n    <tr>\n      <th>5</th>\n      <td>0.05</td>\n      <td>160.985936</td>\n      <td>140.687104</td>\n      <td>72.489478</td>\n      <td>0</td>\n    </tr>\n    <tr>\n      <th>6</th>\n      <td>0.06</td>\n      <td>178.287132</td>\n      <td>155.004451</td>\n      <td>74.593786</td>\n      <td>0</td>\n    </tr>\n    <tr>\n      <th>7</th>\n      <td>0.07</td>\n      <td>199.795164</td>\n      <td>176.796738</td>\n      <td>74.027974</td>\n      <td>0</td>\n    </tr>\n    <tr>\n      <th>8</th>\n      <td>0.08</td>\n      <td>213.489798</td>\n      <td>188.415711</td>\n      <td>76.955991</td>\n      <td>0</td>\n    </tr>\n    <tr>\n      <th>9</th>\n      <td>0.09</td>\n      <td>231.193478</td>\n      <td>203.997720</td>\n      <td>74.719331</td>\n      <td>0</td>\n    </tr>\n    <tr>\n      <th>10</th>\n      <td>0.10</td>\n      <td>252.826685</td>\n      <td>229.082509</td>\n      <td>75.669037</td>\n      <td>0</td>\n    </tr>\n    <tr>\n      <th>11</th>\n      <td>0.11</td>\n      <td>277.536598</td>\n      <td>237.903226</td>\n      <td>77.674719</td>\n      <td>0</td>\n    </tr>\n    <tr>\n      <th>12</th>\n      <td>0.12</td>\n      <td>315.045083</td>\n      <td>280.189008</td>\n      <td>84.907604</td>\n      <td>0</td>\n    </tr>\n    <tr>\n      <th>13</th>\n      <td>0.13</td>\n      <td>328.122868</td>\n      <td>284.261531</td>\n      <td>85.572722</td>\n      <td>0</td>\n    </tr>\n    <tr>\n      <th>14</th>\n      <td>0.14</td>\n      <td>368.083511</td>\n      <td>334.567731</td>\n      <td>82.226854</td>\n      <td>0</td>\n    </tr>\n    <tr>\n      <th>15</th>\n      <td>0.15</td>\n      <td>412.537748</td>\n      <td>369.484895</td>\n      <td>88.457939</td>\n      <td>0</td>\n    </tr>\n    <tr>\n      <th>16</th>\n      <td>0.16</td>\n      <td>442.670362</td>\n      <td>388.829838</td>\n      <td>94.511768</td>\n      <td>0</td>\n    </tr>\n    <tr>\n      <th>17</th>\n      <td>0.17</td>\n      <td>470.264828</td>\n      <td>420.879769</td>\n      <td>81.387754</td>\n      <td>0</td>\n    </tr>\n    <tr>\n      <th>18</th>\n      <td>0.18</td>\n      <td>513.154353</td>\n      <td>448.844572</td>\n      <td>92.846876</td>\n      <td>0</td>\n    </tr>\n    <tr>\n      <th>19</th>\n      <td>0.19</td>\n      <td>565.634530</td>\n      <td>503.013247</td>\n      <td>138.979604</td>\n      <td>0</td>\n    </tr>\n    <tr>\n      <th>20</th>\n      <td>0.20</td>\n      <td>626.436275</td>\n      <td>567.519291</td>\n      <td>134.003557</td>\n      <td>0</td>\n    </tr>\n  </tbody>\n</table>\n</div>"
     },
     "metadata": {},
     "execution_count": 44
    }
   ],
   "source": [
    "rows_list = []\n",
    "for mu in range(0, 21):\n",
    "    result = q3_increase_mu(mu=mu)\n",
    "    rows_list.append(result)\n",
    "pd.DataFrame(rows_list)"
   ]
  },
  {
   "source": [
    "## All other things being equal, which of these changes will cause an INCREASE in floor violations\n",
    "### Question 4"
   ],
   "cell_type": "markdown",
   "metadata": {}
  },
  {
   "cell_type": "code",
   "execution_count": 47,
   "metadata": {},
   "outputs": [
    {
     "output_type": "execute_result",
     "data": {
      "text/plain": [
       "    MU        Mean      Median  Worst case  N Failures\n",
       "0  0.0  120.803028  119.498266   93.251023           0\n",
       "1  0.0  109.304242   99.002660   76.314574           0\n",
       "2  0.0  108.650606   85.088258   71.776153           0\n",
       "3  0.0  106.762662   75.297663   69.267405           3\n",
       "4  0.0  107.375505   70.998617   59.410081          79"
      ],
      "text/html": "<div>\n<style scoped>\n    .dataframe tbody tr th:only-of-type {\n        vertical-align: middle;\n    }\n\n    .dataframe tbody tr th {\n        vertical-align: top;\n    }\n\n    .dataframe thead th {\n        text-align: right;\n    }\n</style>\n<table border=\"1\" class=\"dataframe\">\n  <thead>\n    <tr style=\"text-align: right;\">\n      <th></th>\n      <th>MU</th>\n      <th>Mean</th>\n      <th>Median</th>\n      <th>Worst case</th>\n      <th>N Failures</th>\n    </tr>\n  </thead>\n  <tbody>\n    <tr>\n      <th>0</th>\n      <td>0.0</td>\n      <td>120.803028</td>\n      <td>119.498266</td>\n      <td>93.251023</td>\n      <td>0</td>\n    </tr>\n    <tr>\n      <th>1</th>\n      <td>0.0</td>\n      <td>109.304242</td>\n      <td>99.002660</td>\n      <td>76.314574</td>\n      <td>0</td>\n    </tr>\n    <tr>\n      <th>2</th>\n      <td>0.0</td>\n      <td>108.650606</td>\n      <td>85.088258</td>\n      <td>71.776153</td>\n      <td>0</td>\n    </tr>\n    <tr>\n      <th>3</th>\n      <td>0.0</td>\n      <td>106.762662</td>\n      <td>75.297663</td>\n      <td>69.267405</td>\n      <td>3</td>\n    </tr>\n    <tr>\n      <th>4</th>\n      <td>0.0</td>\n      <td>107.375505</td>\n      <td>70.998617</td>\n      <td>59.410081</td>\n      <td>79</td>\n    </tr>\n  </tbody>\n</table>\n</div>"
     },
     "metadata": {},
     "execution_count": 47
    }
   ],
   "source": [
    "iter_range = [(1, 0.1), (2, 0.15), (3, 0.20), (4, 0.30), (5, 0.45)]\n",
    "rows_list = []\n",
    "for (m, sigma) in iter_range:\n",
    "    result = q3_increase_mu(m=m, sigma=sigma)\n",
    "    rows_list.append(result)\n",
    "pd.DataFrame(rows_list)"
   ]
  },
  {
   "cell_type": "code",
   "execution_count": 48,
   "metadata": {},
   "outputs": [
    {
     "output_type": "execute_result",
     "data": {
      "text/plain": [
       "    MU        Mean     Median  Worst case  N Failures\n",
       "0  0.0  103.256092  96.235638   72.249469           0\n",
       "1  0.0  106.406088  87.812868   72.057803           0\n",
       "2  0.0  107.365624  84.874396   71.654144           0\n",
       "3  0.0  111.393287  84.305056   71.824017           0\n",
       "4  0.0  123.054829  98.997117   72.477057           0"
      ],
      "text/html": "<div>\n<style scoped>\n    .dataframe tbody tr th:only-of-type {\n        vertical-align: middle;\n    }\n\n    .dataframe tbody tr th {\n        vertical-align: top;\n    }\n\n    .dataframe thead th {\n        text-align: right;\n    }\n</style>\n<table border=\"1\" class=\"dataframe\">\n  <thead>\n    <tr style=\"text-align: right;\">\n      <th></th>\n      <th>MU</th>\n      <th>Mean</th>\n      <th>Median</th>\n      <th>Worst case</th>\n      <th>N Failures</th>\n    </tr>\n  </thead>\n  <tbody>\n    <tr>\n      <th>0</th>\n      <td>0.0</td>\n      <td>103.256092</td>\n      <td>96.235638</td>\n      <td>72.249469</td>\n      <td>0</td>\n    </tr>\n    <tr>\n      <th>1</th>\n      <td>0.0</td>\n      <td>106.406088</td>\n      <td>87.812868</td>\n      <td>72.057803</td>\n      <td>0</td>\n    </tr>\n    <tr>\n      <th>2</th>\n      <td>0.0</td>\n      <td>107.365624</td>\n      <td>84.874396</td>\n      <td>71.654144</td>\n      <td>0</td>\n    </tr>\n    <tr>\n      <th>3</th>\n      <td>0.0</td>\n      <td>111.393287</td>\n      <td>84.305056</td>\n      <td>71.824017</td>\n      <td>0</td>\n    </tr>\n    <tr>\n      <th>4</th>\n      <td>0.0</td>\n      <td>123.054829</td>\n      <td>98.997117</td>\n      <td>72.477057</td>\n      <td>0</td>\n    </tr>\n  </tbody>\n</table>\n</div>"
     },
     "metadata": {},
     "execution_count": 48
    }
   ],
   "source": [
    "iter_range = [(5, 0.1), (4, 0.15), (3, 0.20), (2, 0.30), (1, 0.45)]\n",
    "rows_list = []\n",
    "for (m, sigma) in iter_range:\n",
    "    result = q3_increase_mu(m=m, sigma=sigma)\n",
    "    rows_list.append(result)\n",
    "pd.DataFrame(rows_list)"
   ]
  },
  {
   "cell_type": "code",
   "execution_count": 49,
   "metadata": {},
   "outputs": [
    {
     "output_type": "execute_result",
     "data": {
      "text/plain": [
       "    MU        Mean     Median  Worst case  N Failures\n",
       "0  0.0  117.875522  96.932853   73.545611           0\n",
       "1  0.0  117.273034  86.386620   71.595748           0\n",
       "2  0.0  110.066332  83.931601   71.337551           0\n",
       "3  0.0  103.157207  84.700198   71.769810           0\n",
       "4  0.0  106.355675  98.874139   72.700105           0"
      ],
      "text/html": "<div>\n<style scoped>\n    .dataframe tbody tr th:only-of-type {\n        vertical-align: middle;\n    }\n\n    .dataframe tbody tr th {\n        vertical-align: top;\n    }\n\n    .dataframe thead th {\n        text-align: right;\n    }\n</style>\n<table border=\"1\" class=\"dataframe\">\n  <thead>\n    <tr style=\"text-align: right;\">\n      <th></th>\n      <th>MU</th>\n      <th>Mean</th>\n      <th>Median</th>\n      <th>Worst case</th>\n      <th>N Failures</th>\n    </tr>\n  </thead>\n  <tbody>\n    <tr>\n      <th>0</th>\n      <td>0.0</td>\n      <td>117.875522</td>\n      <td>96.932853</td>\n      <td>73.545611</td>\n      <td>0</td>\n    </tr>\n    <tr>\n      <th>1</th>\n      <td>0.0</td>\n      <td>117.273034</td>\n      <td>86.386620</td>\n      <td>71.595748</td>\n      <td>0</td>\n    </tr>\n    <tr>\n      <th>2</th>\n      <td>0.0</td>\n      <td>110.066332</td>\n      <td>83.931601</td>\n      <td>71.337551</td>\n      <td>0</td>\n    </tr>\n    <tr>\n      <th>3</th>\n      <td>0.0</td>\n      <td>103.157207</td>\n      <td>84.700198</td>\n      <td>71.769810</td>\n      <td>0</td>\n    </tr>\n    <tr>\n      <th>4</th>\n      <td>0.0</td>\n      <td>106.355675</td>\n      <td>98.874139</td>\n      <td>72.700105</td>\n      <td>0</td>\n    </tr>\n  </tbody>\n</table>\n</div>"
     },
     "metadata": {},
     "execution_count": 49
    }
   ],
   "source": [
    "iter_range = [(1, 0.45), (2, 0.30), (3, 0.20), (4, 0.15), (5, 0.1)]\n",
    "rows_list = []\n",
    "for (m, sigma) in iter_range:\n",
    "    result = q3_increase_mu(m=m, sigma=sigma)\n",
    "    rows_list.append(result)\n",
    "pd.DataFrame(rows_list)"
   ]
  },
  {
   "source": [
    "## All other things being equal, which of these changes will cause an INCREASE in floor violations\n",
    "### Question 5, 6"
   ],
   "cell_type": "markdown",
   "metadata": {}
  },
  {
   "cell_type": "code",
   "execution_count": 61,
   "metadata": {},
   "outputs": [
    {
     "output_type": "execute_result",
     "data": {
      "text/plain": [
       "    MU        Mean      Median  Worst case  N Failures  Exp. Shortfall\n",
       "0  0.0  121.252524  118.263186   88.456001           0        0.000000\n",
       "1  0.0  108.546789   97.056000   75.488968           0        0.000000\n",
       "2  0.0  103.293791   86.452233   70.831253           0        0.000000\n",
       "3  0.0  102.372237   80.087202   66.586649           5       -1.823885\n",
       "4  0.0   99.958138   77.219824   44.430837         109       -4.351080"
      ],
      "text/html": "<div>\n<style scoped>\n    .dataframe tbody tr th:only-of-type {\n        vertical-align: middle;\n    }\n\n    .dataframe tbody tr th {\n        vertical-align: top;\n    }\n\n    .dataframe thead th {\n        text-align: right;\n    }\n</style>\n<table border=\"1\" class=\"dataframe\">\n  <thead>\n    <tr style=\"text-align: right;\">\n      <th></th>\n      <th>MU</th>\n      <th>Mean</th>\n      <th>Median</th>\n      <th>Worst case</th>\n      <th>N Failures</th>\n      <th>Exp. Shortfall</th>\n    </tr>\n  </thead>\n  <tbody>\n    <tr>\n      <th>0</th>\n      <td>0.0</td>\n      <td>121.252524</td>\n      <td>118.263186</td>\n      <td>88.456001</td>\n      <td>0</td>\n      <td>0.000000</td>\n    </tr>\n    <tr>\n      <th>1</th>\n      <td>0.0</td>\n      <td>108.546789</td>\n      <td>97.056000</td>\n      <td>75.488968</td>\n      <td>0</td>\n      <td>0.000000</td>\n    </tr>\n    <tr>\n      <th>2</th>\n      <td>0.0</td>\n      <td>103.293791</td>\n      <td>86.452233</td>\n      <td>70.831253</td>\n      <td>0</td>\n      <td>0.000000</td>\n    </tr>\n    <tr>\n      <th>3</th>\n      <td>0.0</td>\n      <td>102.372237</td>\n      <td>80.087202</td>\n      <td>66.586649</td>\n      <td>5</td>\n      <td>-1.823885</td>\n    </tr>\n    <tr>\n      <th>4</th>\n      <td>0.0</td>\n      <td>99.958138</td>\n      <td>77.219824</td>\n      <td>44.430837</td>\n      <td>109</td>\n      <td>-4.351080</td>\n    </tr>\n  </tbody>\n</table>\n</div>"
     },
     "metadata": {},
     "execution_count": 61
    }
   ],
   "source": [
    "iter_range = [(1, 12), (2, 9), (3, 6), (4, 3), (5, 1)]\n",
    "rows_list = []\n",
    "for (m, steps_per_year) in iter_range:\n",
    "    result = q3_increase_mu(m=m, steps_per_year=steps_per_year)\n",
    "    rows_list.append(result)\n",
    "pd.DataFrame(rows_list)"
   ]
  },
  {
   "cell_type": "code",
   "execution_count": 59,
   "metadata": {},
   "outputs": [
    {
     "output_type": "execute_result",
     "data": {
      "text/plain": [
       "    MU        Mean      Median  Worst case  N Failures  Exp. Shortfall\n",
       "0  0.0   97.016447   75.449519   43.541153         132       -4.165308\n",
       "1  0.0  102.133956   83.772404   69.088632           2       -0.879365\n",
       "2  0.0  104.918969   88.533601   71.690011           0        0.000000\n",
       "3  0.0  108.589151   98.808569   74.009254           0        0.000000\n",
       "4  0.0  122.517651  117.691745   88.819381           0        0.000000"
      ],
      "text/html": "<div>\n<style scoped>\n    .dataframe tbody tr th:only-of-type {\n        vertical-align: middle;\n    }\n\n    .dataframe tbody tr th {\n        vertical-align: top;\n    }\n\n    .dataframe thead th {\n        text-align: right;\n    }\n</style>\n<table border=\"1\" class=\"dataframe\">\n  <thead>\n    <tr style=\"text-align: right;\">\n      <th></th>\n      <th>MU</th>\n      <th>Mean</th>\n      <th>Median</th>\n      <th>Worst case</th>\n      <th>N Failures</th>\n      <th>Exp. Shortfall</th>\n    </tr>\n  </thead>\n  <tbody>\n    <tr>\n      <th>0</th>\n      <td>0.0</td>\n      <td>97.016447</td>\n      <td>75.449519</td>\n      <td>43.541153</td>\n      <td>132</td>\n      <td>-4.165308</td>\n    </tr>\n    <tr>\n      <th>1</th>\n      <td>0.0</td>\n      <td>102.133956</td>\n      <td>83.772404</td>\n      <td>69.088632</td>\n      <td>2</td>\n      <td>-0.879365</td>\n    </tr>\n    <tr>\n      <th>2</th>\n      <td>0.0</td>\n      <td>104.918969</td>\n      <td>88.533601</td>\n      <td>71.690011</td>\n      <td>0</td>\n      <td>0.000000</td>\n    </tr>\n    <tr>\n      <th>3</th>\n      <td>0.0</td>\n      <td>108.589151</td>\n      <td>98.808569</td>\n      <td>74.009254</td>\n      <td>0</td>\n      <td>0.000000</td>\n    </tr>\n    <tr>\n      <th>4</th>\n      <td>0.0</td>\n      <td>122.517651</td>\n      <td>117.691745</td>\n      <td>88.819381</td>\n      <td>0</td>\n      <td>0.000000</td>\n    </tr>\n  </tbody>\n</table>\n</div>"
     },
     "metadata": {},
     "execution_count": 59
    }
   ],
   "source": [
    "iter_range = [(5, 1), (4, 3), (3, 6), (2, 9), (1, 12)]\n",
    "rows_list = []\n",
    "for (m, steps_per_year) in iter_range:\n",
    "    result = q3_increase_mu(m=m, steps_per_year=steps_per_year)\n",
    "    rows_list.append(result)\n",
    "pd.DataFrame(rows_list)"
   ]
  },
  {
   "cell_type": "code",
   "execution_count": 60,
   "metadata": {},
   "outputs": [
    {
     "output_type": "execute_result",
     "data": {
      "text/plain": [
       "    MU        Mean     Median  Worst case  N Failures  Exp. Shortfall\n",
       "0  0.0  102.238599  98.671116   77.272680           0             0.0\n",
       "1  0.0  104.215317  94.249293   72.150792           0             0.0\n",
       "2  0.0  102.969252  84.850688   71.422099           0             0.0\n",
       "3  0.0  104.761144  86.552225   71.117299           0             0.0\n",
       "4  0.0  104.857691  86.260986   70.983755           0             0.0"
      ],
      "text/html": "<div>\n<style scoped>\n    .dataframe tbody tr th:only-of-type {\n        vertical-align: middle;\n    }\n\n    .dataframe tbody tr th {\n        vertical-align: top;\n    }\n\n    .dataframe thead th {\n        text-align: right;\n    }\n</style>\n<table border=\"1\" class=\"dataframe\">\n  <thead>\n    <tr style=\"text-align: right;\">\n      <th></th>\n      <th>MU</th>\n      <th>Mean</th>\n      <th>Median</th>\n      <th>Worst case</th>\n      <th>N Failures</th>\n      <th>Exp. Shortfall</th>\n    </tr>\n  </thead>\n  <tbody>\n    <tr>\n      <th>0</th>\n      <td>0.0</td>\n      <td>102.238599</td>\n      <td>98.671116</td>\n      <td>77.272680</td>\n      <td>0</td>\n      <td>0.0</td>\n    </tr>\n    <tr>\n      <th>1</th>\n      <td>0.0</td>\n      <td>104.215317</td>\n      <td>94.249293</td>\n      <td>72.150792</td>\n      <td>0</td>\n      <td>0.0</td>\n    </tr>\n    <tr>\n      <th>2</th>\n      <td>0.0</td>\n      <td>102.969252</td>\n      <td>84.850688</td>\n      <td>71.422099</td>\n      <td>0</td>\n      <td>0.0</td>\n    </tr>\n    <tr>\n      <th>3</th>\n      <td>0.0</td>\n      <td>104.761144</td>\n      <td>86.552225</td>\n      <td>71.117299</td>\n      <td>0</td>\n      <td>0.0</td>\n    </tr>\n    <tr>\n      <th>4</th>\n      <td>0.0</td>\n      <td>104.857691</td>\n      <td>86.260986</td>\n      <td>70.983755</td>\n      <td>0</td>\n      <td>0.0</td>\n    </tr>\n  </tbody>\n</table>\n</div>"
     },
     "metadata": {},
     "execution_count": 60
    }
   ],
   "source": [
    "iter_range = [(1, 1), (2, 3), (3, 6), (4, 9), (5, 12)]\n",
    "rows_list = []\n",
    "for (m, steps_per_year) in iter_range:\n",
    "    result = q3_increase_mu(m=m, steps_per_year=steps_per_year)\n",
    "    rows_list.append(result)\n",
    "pd.DataFrame(rows_list)"
   ]
  },
  {
   "source": [
    "## Parameter changes that increase the probability of floor violations will also tend to increase the Expected Shortfall. This statement is:\n",
    "### Question 7"
   ],
   "cell_type": "markdown",
   "metadata": {}
  },
  {
   "cell_type": "code",
   "execution_count": 62,
   "metadata": {},
   "outputs": [
    {
     "output_type": "execute_result",
     "data": {
      "text/plain": [
       "    MU        Mean      Median  Worst case  N Failures  Exp. Shortfall\n",
       "0  0.0  105.584546   85.331163   70.900429           0             0.0\n",
       "1  0.0  102.385182   86.112227   70.907288           0             0.0\n",
       "2  0.0  108.217697   89.674947   71.361268           0             0.0\n",
       "3  0.0  103.712936   89.111105   72.091099           0             0.0\n",
       "4  0.0  105.884504   89.721875   72.932434           0             0.0\n",
       "5  0.0  131.129218  113.039370   82.912743           0             0.0\n",
       "6  0.0  108.670043   92.817872   73.517658           0             0.0"
      ],
      "text/html": "<div>\n<style scoped>\n    .dataframe tbody tr th:only-of-type {\n        vertical-align: middle;\n    }\n\n    .dataframe tbody tr th {\n        vertical-align: top;\n    }\n\n    .dataframe thead th {\n        text-align: right;\n    }\n</style>\n<table border=\"1\" class=\"dataframe\">\n  <thead>\n    <tr style=\"text-align: right;\">\n      <th></th>\n      <th>MU</th>\n      <th>Mean</th>\n      <th>Median</th>\n      <th>Worst case</th>\n      <th>N Failures</th>\n      <th>Exp. Shortfall</th>\n    </tr>\n  </thead>\n  <tbody>\n    <tr>\n      <th>0</th>\n      <td>0.0</td>\n      <td>105.584546</td>\n      <td>85.331163</td>\n      <td>70.900429</td>\n      <td>0</td>\n      <td>0.0</td>\n    </tr>\n    <tr>\n      <th>1</th>\n      <td>0.0</td>\n      <td>102.385182</td>\n      <td>86.112227</td>\n      <td>70.907288</td>\n      <td>0</td>\n      <td>0.0</td>\n    </tr>\n    <tr>\n      <th>2</th>\n      <td>0.0</td>\n      <td>108.217697</td>\n      <td>89.674947</td>\n      <td>71.361268</td>\n      <td>0</td>\n      <td>0.0</td>\n    </tr>\n    <tr>\n      <th>3</th>\n      <td>0.0</td>\n      <td>103.712936</td>\n      <td>89.111105</td>\n      <td>72.091099</td>\n      <td>0</td>\n      <td>0.0</td>\n    </tr>\n    <tr>\n      <th>4</th>\n      <td>0.0</td>\n      <td>105.884504</td>\n      <td>89.721875</td>\n      <td>72.932434</td>\n      <td>0</td>\n      <td>0.0</td>\n    </tr>\n    <tr>\n      <th>5</th>\n      <td>0.0</td>\n      <td>131.129218</td>\n      <td>113.039370</td>\n      <td>82.912743</td>\n      <td>0</td>\n      <td>0.0</td>\n    </tr>\n    <tr>\n      <th>6</th>\n      <td>0.0</td>\n      <td>108.670043</td>\n      <td>92.817872</td>\n      <td>73.517658</td>\n      <td>0</td>\n      <td>0.0</td>\n    </tr>\n  </tbody>\n</table>\n</div>"
     },
     "metadata": {},
     "execution_count": 62
    }
   ],
   "source": [
    "# Based on this I gave an incorrect \"False\" answer\n",
    "iter_range = [0.01, 0.015, 0.02, 0.025, 0.030, 0.305, 0.04]\n",
    "rows_list = []\n",
    "for riskfree_rate in iter_range:\n",
    "    result = q3_increase_mu(riskfree_rate=riskfree_rate)\n",
    "    rows_list.append(result)\n",
    "pd.DataFrame(rows_list)"
   ]
  },
  {
   "source": [
    "It doesn't make sense\n",
    "\n",
    "False"
   ],
   "cell_type": "markdown",
   "metadata": {}
  },
  {
   "cell_type": "code",
   "execution_count": null,
   "metadata": {},
   "outputs": [],
   "source": []
  }
 ]
}