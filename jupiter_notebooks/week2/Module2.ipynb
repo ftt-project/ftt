{
 "cells": [
  {
   "cell_type": "markdown",
   "metadata": {},
   "source": [
    "# Module 2"
   ]
  },
  {
   "cell_type": "code",
   "execution_count": 226,
   "metadata": {},
   "outputs": [
    {
     "output_type": "stream",
     "name": "stdout",
     "text": [
      "The autoreload extension is already loaded. To reload it, use:\n  %reload_ext autoreload\n"
     ]
    }
   ],
   "source": [
    "%load_ext autoreload\n",
    "%autoreload 2\n",
    "%matplotlib inline\n",
    "\n",
    "import pandas as pd\n",
    "import numpy as np\n",
    "import os,sys,inspect\n",
    "current_dir = os.path.dirname(os.path.abspath(inspect.getfile(inspect.currentframe())))\n",
    "parent_dir = os.path.dirname(current_dir)\n",
    "sys.path.insert(0, parent_dir)\n",
    "import edhec_risk_kit as erk"
   ]
  },
  {
   "cell_type": "markdown",
   "metadata": {},
   "source": [
    "## Question 1\n",
    "Use the EDHEC Hedge Fund Indices data set that we used in the lab assignment as well as in the previous week’s assignments. Load them into Python and perform the following analysis based on data since 2000 (including all of 2000): What was the Monthly Parametric Gaussian VaR at the 1% level (as a +ve number) of the Distressed Securities strategy?\n",
    "\n",
    "Enter the positive number as a percent .e.g. For 5.32% enter 5.32"
   ]
  },
  {
   "cell_type": "code",
   "execution_count": 227,
   "metadata": {},
   "outputs": [],
   "source": [
    "ind = erk.get_ind_returns()\n",
    "er = erk.annualize_rets(ind[\"2000\":], 12)\n",
    "cov = ind[\"2000\":].cov()"
   ]
  },
  {
   "cell_type": "code",
   "execution_count": 228,
   "metadata": {},
   "outputs": [],
   "source": [
    "hfi = erk.get_hfi_returns()"
   ]
  },
  {
   "cell_type": "code",
   "execution_count": 229,
   "metadata": {},
   "outputs": [],
   "source": [
    "hfi_2000 = hfi[\"2000\":]"
   ]
  },
  {
   "cell_type": "code",
   "execution_count": 230,
   "metadata": {},
   "outputs": [
    {
     "output_type": "execute_result",
     "data": {
      "text/plain": [
       "Gaussian          0.031430\n",
       "Cornish-Fisher    0.049669\n",
       "Historic          0.042642\n",
       "Name: Distressed Securities, dtype: float64"
      ]
     },
     "metadata": {},
     "execution_count": 230
    }
   ],
   "source": [
    "list = [erk.var_gaussian(hfi_2000, level=1), erk.var_gaussian(hfi_2000, level=1, modified=True), erk.var_historic(hfi_2000, level=1)]\n",
    "comparison = pd.concat(list, axis=1)\n",
    "comparison.columns = ['Gaussian', 'Cornish-Fisher', 'Historic']\n",
    "comparison.loc[\"Distressed Securities\"]"
   ]
  },
  {
   "cell_type": "code",
   "execution_count": 231,
   "metadata": {},
   "outputs": [
    {
     "output_type": "execute_result",
     "data": {
      "text/plain": [
       "Gaussian          0.020280\n",
       "Cornish-Fisher    0.023455\n",
       "Historic          0.019580\n",
       "Name: Distressed Securities, dtype: float64"
      ]
     },
     "metadata": {},
     "execution_count": 231
    }
   ],
   "source": [
    "list = [erk.var_gaussian(hfi_2000, level=5), erk.var_gaussian(hfi_2000, level=5, modified=True), erk.var_historic(hfi_2000)]\n",
    "comparison = pd.concat(list, axis=1)\n",
    "comparison.columns = ['Gaussian', 'Cornish-Fisher', 'Historic']\n",
    "comparison.loc[\"Distressed Securities\"]"
   ]
  },
  {
   "source": [
    "## Question 4\n",
    "Next, load the 30 industry return data using the erk.get_ind_returns() function that we developed during the lab sessions. For purposes of the remaining questions, use data during the 5 year period 2013-2017 (both inclusive) to estimate the expected returns as well as the covariance matrix. To be able to respond to the questions, you will need to build the MSR, EW and GMV portfolios consisting of the “Books”, “Steel”, \"Oil\", and \"Mines\" industries. Assume the risk free rate over the 5 year period is 10%."
   ],
   "cell_type": "markdown",
   "metadata": {}
  },
  {
   "cell_type": "code",
   "execution_count": 232,
   "metadata": {},
   "outputs": [],
   "source": [
    "ind = erk.get_ind_returns()\n",
    "ind_5 = ind[\"2013\":\"2017\"]\n",
    "riskfree_rate = 0.1\n",
    "\n",
    "portfolios_list = [\"Books\", \"Steel\", \"Oil\", \"Mines\"]\n",
    "ind_5 = ind_5[portfolios_list]\n",
    "\n",
    "er = erk.annualize_rets(ind_5, 12)\n",
    "cov = ind_5.cov()\n",
    "#cov = cov.loc[portfolios_list, portfolios_list]\n",
    "\n",
    "float_formatter = \"{:.20f}\".format\n",
    "np.set_printoptions(formatter={'float_kind':float_formatter})"
   ]
  },
  {
   "cell_type": "code",
   "execution_count": 233,
   "metadata": {},
   "outputs": [
    {
     "output_type": "execute_result",
     "data": {
      "text/plain": [
       "Books    0.095312\n",
       "Steel    0.100716\n",
       "Oil      0.025275\n",
       "Mines    0.005136\n",
       "dtype: float64"
      ]
     },
     "metadata": {},
     "execution_count": 233
    }
   ],
   "source": [
    "er"
   ]
  },
  {
   "source": [
    "### MSR"
   ],
   "cell_type": "markdown",
   "metadata": {}
  },
  {
   "cell_type": "code",
   "execution_count": 234,
   "metadata": {},
   "outputs": [
    {
     "output_type": "execute_result",
     "data": {
      "text/plain": [
       "array([0.00000000000000000000, 1.00000000000000000000,\n",
       "       0.00000000000000002082, 0.00000000000000060195])"
      ]
     },
     "metadata": {},
     "execution_count": 234
    }
   ],
   "source": [
    "w_msr = erk.msr(riskfree_rate, er, cov)\n",
    "w_msr"
   ]
  },
  {
   "source": [
    "### GMV"
   ],
   "cell_type": "markdown",
   "metadata": {}
  },
  {
   "cell_type": "code",
   "execution_count": 235,
   "metadata": {},
   "outputs": [
    {
     "output_type": "execute_result",
     "data": {
      "text/plain": [
       "array([0.47702487014389954867, 0.00000000000000000000,\n",
       "       0.43411202519772174035, 0.08886310465837875261])"
      ]
     },
     "metadata": {},
     "execution_count": 235
    }
   ],
   "source": [
    "w_gmv = erk.gmv(cov)\n",
    "w_gmv"
   ]
  },
  {
   "source": [
    "11. Assume two different investors invested in the GMV and MSR portfolios at the start of 2018 using the weights we just computed. Compute the annualized volatility of these two portfolios over the next 12 months of 2018? (Hint: Use the portfolio_vol code we developed in the lab and use ind\\[“2018”\\]\\[l\\].cov() to compute the covariance matrix for 2018, assuming that the variable ind holds the industry returns and the variable l holds the list of industry portfolios you are willing to hold. Don’t forget to annualize the volatility)\n",
    "\n",
    "**What would be the annualized volatility over 2018 using the weights of the MSR portfolio?**"
   ],
   "cell_type": "markdown",
   "metadata": {}
  },
  {
   "cell_type": "code",
   "execution_count": 236,
   "metadata": {},
   "outputs": [
    {
     "output_type": "execute_result",
     "data": {
      "text/plain": [
       "          Books   Steel     Oil   Mines\n",
       "2018-01  0.0449  0.0361  0.0286  0.0357\n",
       "2018-02 -0.0325 -0.0199 -0.1102 -0.0335\n",
       "2018-03  0.0031 -0.0586  0.0308 -0.0015\n",
       "2018-04 -0.0062  0.0366  0.1030 -0.0339\n",
       "2018-05 -0.0061  0.0562  0.0343  0.0308\n",
       "2018-06  0.0218 -0.0514  0.0052 -0.0178\n",
       "2018-07 -0.0417  0.0424  0.0104 -0.0224\n",
       "2018-08 -0.0447 -0.0323 -0.0295 -0.1075\n",
       "2018-09 -0.0221 -0.0067  0.0356 -0.0173\n",
       "2018-10 -0.0666 -0.1161 -0.1206 -0.1032\n",
       "2018-11  0.0325 -0.0300 -0.0233 -0.0095\n",
       "2018-12 -0.1535 -0.1478 -0.1325 -0.0706"
      ],
      "text/html": "<div>\n<style scoped>\n    .dataframe tbody tr th:only-of-type {\n        vertical-align: middle;\n    }\n\n    .dataframe tbody tr th {\n        vertical-align: top;\n    }\n\n    .dataframe thead th {\n        text-align: right;\n    }\n</style>\n<table border=\"1\" class=\"dataframe\">\n  <thead>\n    <tr style=\"text-align: right;\">\n      <th></th>\n      <th>Books</th>\n      <th>Steel</th>\n      <th>Oil</th>\n      <th>Mines</th>\n    </tr>\n  </thead>\n  <tbody>\n    <tr>\n      <th>2018-01</th>\n      <td>0.0449</td>\n      <td>0.0361</td>\n      <td>0.0286</td>\n      <td>0.0357</td>\n    </tr>\n    <tr>\n      <th>2018-02</th>\n      <td>-0.0325</td>\n      <td>-0.0199</td>\n      <td>-0.1102</td>\n      <td>-0.0335</td>\n    </tr>\n    <tr>\n      <th>2018-03</th>\n      <td>0.0031</td>\n      <td>-0.0586</td>\n      <td>0.0308</td>\n      <td>-0.0015</td>\n    </tr>\n    <tr>\n      <th>2018-04</th>\n      <td>-0.0062</td>\n      <td>0.0366</td>\n      <td>0.1030</td>\n      <td>-0.0339</td>\n    </tr>\n    <tr>\n      <th>2018-05</th>\n      <td>-0.0061</td>\n      <td>0.0562</td>\n      <td>0.0343</td>\n      <td>0.0308</td>\n    </tr>\n    <tr>\n      <th>2018-06</th>\n      <td>0.0218</td>\n      <td>-0.0514</td>\n      <td>0.0052</td>\n      <td>-0.0178</td>\n    </tr>\n    <tr>\n      <th>2018-07</th>\n      <td>-0.0417</td>\n      <td>0.0424</td>\n      <td>0.0104</td>\n      <td>-0.0224</td>\n    </tr>\n    <tr>\n      <th>2018-08</th>\n      <td>-0.0447</td>\n      <td>-0.0323</td>\n      <td>-0.0295</td>\n      <td>-0.1075</td>\n    </tr>\n    <tr>\n      <th>2018-09</th>\n      <td>-0.0221</td>\n      <td>-0.0067</td>\n      <td>0.0356</td>\n      <td>-0.0173</td>\n    </tr>\n    <tr>\n      <th>2018-10</th>\n      <td>-0.0666</td>\n      <td>-0.1161</td>\n      <td>-0.1206</td>\n      <td>-0.1032</td>\n    </tr>\n    <tr>\n      <th>2018-11</th>\n      <td>0.0325</td>\n      <td>-0.0300</td>\n      <td>-0.0233</td>\n      <td>-0.0095</td>\n    </tr>\n    <tr>\n      <th>2018-12</th>\n      <td>-0.1535</td>\n      <td>-0.1478</td>\n      <td>-0.1325</td>\n      <td>-0.0706</td>\n    </tr>\n  </tbody>\n</table>\n</div>"
     },
     "metadata": {},
     "execution_count": 236
    }
   ],
   "source": [
    "ind_2018 = ind[\"2018\"][portfolios_list]\n",
    "ind_2018"
   ]
  },
  {
   "cell_type": "code",
   "execution_count": 237,
   "metadata": {},
   "outputs": [
    {
     "output_type": "execute_result",
     "data": {
      "text/plain": [
       "          Books     Steel       Oil     Mines\n",
       "Books  0.002799  0.002098  0.002558  0.001629\n",
       "Steel  0.002098  0.004027  0.003473  0.001843\n",
       "Oil    0.002558  0.003473  0.005296  0.001961\n",
       "Mines  0.001629  0.001843  0.001961  0.002059"
      ],
      "text/html": "<div>\n<style scoped>\n    .dataframe tbody tr th:only-of-type {\n        vertical-align: middle;\n    }\n\n    .dataframe tbody tr th {\n        vertical-align: top;\n    }\n\n    .dataframe thead th {\n        text-align: right;\n    }\n</style>\n<table border=\"1\" class=\"dataframe\">\n  <thead>\n    <tr style=\"text-align: right;\">\n      <th></th>\n      <th>Books</th>\n      <th>Steel</th>\n      <th>Oil</th>\n      <th>Mines</th>\n    </tr>\n  </thead>\n  <tbody>\n    <tr>\n      <th>Books</th>\n      <td>0.002799</td>\n      <td>0.002098</td>\n      <td>0.002558</td>\n      <td>0.001629</td>\n    </tr>\n    <tr>\n      <th>Steel</th>\n      <td>0.002098</td>\n      <td>0.004027</td>\n      <td>0.003473</td>\n      <td>0.001843</td>\n    </tr>\n    <tr>\n      <th>Oil</th>\n      <td>0.002558</td>\n      <td>0.003473</td>\n      <td>0.005296</td>\n      <td>0.001961</td>\n    </tr>\n    <tr>\n      <th>Mines</th>\n      <td>0.001629</td>\n      <td>0.001843</td>\n      <td>0.001961</td>\n      <td>0.002059</td>\n    </tr>\n  </tbody>\n</table>\n</div>"
     },
     "metadata": {},
     "execution_count": 237
    }
   ],
   "source": [
    "cov_2018 = ind_2018.cov()\n",
    "cov_2018"
   ]
  },
  {
   "cell_type": "code",
   "execution_count": 238,
   "metadata": {},
   "outputs": [
    {
     "output_type": "execute_result",
     "data": {
      "text/plain": [
       "0.06346230747220724"
      ]
     },
     "metadata": {},
     "execution_count": 238
    }
   ],
   "source": [
    "vol_msr = erk.portfolio_vol(w_msr, cov_2018)\n",
    "vol_msr"
   ]
  },
  {
   "source": [
    "To annualize volatility we have to multiply by square root of 12"
   ],
   "cell_type": "markdown",
   "metadata": {}
  },
  {
   "cell_type": "code",
   "execution_count": 239,
   "metadata": {},
   "outputs": [
    {
     "output_type": "execute_result",
     "data": {
      "text/plain": [
       "0.21983988181484188"
      ]
     },
     "metadata": {},
     "execution_count": 239
    }
   ],
   "source": [
    "vol_msr * (12**0.5)"
   ]
  },
  {
   "source": [
    "12. What would be the annualized volatility over 2018 using the weights of the GMV portfolio? (Reminder and Hint: Use the portfolio_vol code we developed in the lab and use ind\\[“2018”\\]\\[l\\].cov() to compute the covariance matrix for 2018, assuming that the variable ind holds the industry returns and the variable l holds the list of industry portfolios you are willing to hold. Don’t forget to annualize the volatility)"
   ],
   "cell_type": "markdown",
   "metadata": {}
  },
  {
   "source": [
    "### GMV"
   ],
   "cell_type": "markdown",
   "metadata": {}
  },
  {
   "cell_type": "code",
   "execution_count": 240,
   "metadata": {},
   "outputs": [
    {
     "output_type": "execute_result",
     "data": {
      "text/plain": [
       "0.05477245366380528"
      ]
     },
     "metadata": {},
     "execution_count": 240
    }
   ],
   "source": [
    "vol_gmv = erk.portfolio_vol(w_gmv, cov_2018)\n",
    "vol_gmv"
   ]
  },
  {
   "cell_type": "code",
   "execution_count": 241,
   "metadata": {},
   "outputs": [
    {
     "output_type": "execute_result",
     "data": {
      "text/plain": [
       "0.18973734520184568"
      ]
     },
     "metadata": {},
     "execution_count": 241
    }
   ],
   "source": [
    "vol_gmv * (12**0.5)"
   ]
  },
  {
   "source": [
    "# Summary\n",
    "\n",
    "Volatility of GMV portfolio is lower."
   ],
   "cell_type": "markdown",
   "metadata": {}
  }
 ],
 "metadata": {
  "kernelspec": {
   "display_name": "Python 3",
   "language": "python",
   "name": "python3"
  },
  "language_info": {
   "codemirror_mode": {
    "name": "ipython",
    "version": 3
   },
   "file_extension": ".py",
   "mimetype": "text/x-python",
   "name": "python",
   "nbconvert_exporter": "python",
   "pygments_lexer": "ipython3",
   "version": "3.8.3-final"
  }
 },
 "nbformat": 4,
 "nbformat_minor": 4
}