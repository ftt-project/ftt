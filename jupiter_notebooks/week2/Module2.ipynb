{
 "cells": [
  {
   "cell_type": "markdown",
   "metadata": {},
   "source": [
    "# Module 2"
   ]
  },
  {
   "cell_type": "code",
   "execution_count": 32,
   "metadata": {},
   "outputs": [
    {
     "output_type": "stream",
     "name": "stdout",
     "text": [
      "The autoreload extension is already loaded. To reload it, use:\n  %reload_ext autoreload\n"
     ]
    }
   ],
   "source": [
    "%load_ext autoreload\n",
    "%autoreload 2\n",
    "%matplotlib inline\n",
    "\n",
    "import pandas as pd\n",
    "import numpy as np\n",
    "import os,sys,inspect\n",
    "current_dir = os.path.dirname(os.path.abspath(inspect.getfile(inspect.currentframe())))\n",
    "parent_dir = os.path.dirname(current_dir)\n",
    "sys.path.insert(0, parent_dir) \n",
    "import edhec_risk_kit as erk"
   ]
  },
  {
   "cell_type": "markdown",
   "metadata": {},
   "source": [
    "## Question 1\n",
    "Use the EDHEC Hedge Fund Indices data set that we used in the lab assignment as well as in the previous week’s assignments. Load them into Python and perform the following analysis based on data since 2000 (including all of 2000): What was the Monthly Parametric Gaussian VaR at the 1% level (as a +ve number) of the Distressed Securities strategy?\n",
    "\n",
    "Enter the positive number as a percent .e.g. For 5.32% enter 5.32"
   ]
  },
  {
   "cell_type": "code",
   "execution_count": 33,
   "metadata": {},
   "outputs": [],
   "source": [
    "ind = erk.get_ind_returns()\n",
    "er = erk.annualize_rets(ind[\"2000\":], 12)\n",
    "cov = ind[\"2000\":].cov()"
   ]
  },
  {
   "cell_type": "code",
   "execution_count": 34,
   "metadata": {},
   "outputs": [],
   "source": [
    "hfi = erk.get_hfi_returns()"
   ]
  },
  {
   "cell_type": "code",
   "execution_count": 35,
   "metadata": {},
   "outputs": [],
   "source": [
    "hfi_2000 = hfi[\"2000\":]"
   ]
  },
  {
   "cell_type": "code",
   "execution_count": 36,
   "metadata": {},
   "outputs": [
    {
     "output_type": "execute_result",
     "data": {
      "text/plain": [
       "Gaussian          0.031430\n",
       "Cornish-Fisher    0.049669\n",
       "Historic          0.019580\n",
       "Name: Distressed Securities, dtype: float64"
      ]
     },
     "metadata": {},
     "execution_count": 36
    }
   ],
   "source": [
    "list = [erk.var_gaussian(hfi_2000, level=1), erk.var_gaussian(hfi_2000, level=1, modified=True), erk.var_historic(hfi_2000)]\n",
    "comparison = pd.concat(list, axis=1)\n",
    "comparison.columns = ['Gaussian', 'Cornish-Fisher', 'Historic']\n",
    "comparison.loc[\"Distressed Securities\"]"
   ]
  },
  {
   "cell_type": "code",
   "execution_count": 37,
   "metadata": {},
   "outputs": [
    {
     "output_type": "execute_result",
     "data": {
      "text/plain": [
       "Gaussian          0.020280\n",
       "Cornish-Fisher    0.023455\n",
       "Historic          0.019580\n",
       "Name: Distressed Securities, dtype: float64"
      ]
     },
     "metadata": {},
     "execution_count": 37
    }
   ],
   "source": [
    "list = [erk.var_gaussian(hfi_2000, level=5), erk.var_gaussian(hfi_2000, level=5, modified=True), erk.var_historic(hfi_2000)]\n",
    "comparison = pd.concat(list, axis=1)\n",
    "comparison.columns = ['Gaussian', 'Cornish-Fisher', 'Historic']\n",
    "comparison.loc[\"Distressed Securities\"]"
   ]
  },
  {
   "source": [
    "## Question 4\n",
    "Next, load the 30 industry return data using the erk.get_ind_returns() function that we developed during the lab sessions. For purposes of the remaining questions, use data during the 5 year period 2013-2017 (both inclusive) to estimate the expected returns as well as the covariance matrix. To be able to respond to the questions, you will need to build the MSR, EW and GMV portfolios consisting of the “Books”, “Steel”, \"Oil\", and \"Mines\" industries. Assume the risk free rate over the 5 year period is 10%."
   ],
   "cell_type": "markdown",
   "metadata": {}
  },
  {
   "cell_type": "code",
   "execution_count": 45,
   "metadata": {},
   "outputs": [],
   "source": [
    "ind = erk.get_ind_returns()\n",
    "ind_5 = ind[\"2013\":\"2017\"]\n",
    "riskfree_rate = 0.1\n",
    "\n",
    "portfolios_list = [\"Books\", \"Steel\", \"Oil\", \"Mines\"]\n",
    "ind_5 = ind[portfolios_list]\n",
    "\n",
    "er = erk.annualize_rets(ind_5, 12)\n",
    "cov = ind_5.cov()\n",
    "cov = cov.loc[portfolios_list, portfolios_list]\n",
    "\n",
    "float_formatter = \"{:.20f}\".format\n",
    "np.set_printoptions(formatter={'float_kind':float_formatter})"
   ]
  },
  {
   "cell_type": "code",
   "execution_count": 39,
   "metadata": {},
   "outputs": [
    {
     "output_type": "execute_result",
     "data": {
      "text/plain": [
       "Books    0.079147\n",
       "Steel    0.067926\n",
       "Oil      0.101700\n",
       "Mines    0.075994\n",
       "dtype: float64"
      ]
     },
     "metadata": {},
     "execution_count": 39
    }
   ],
   "source": [
    "er"
   ]
  },
  {
   "source": [
    "### GMV"
   ],
   "cell_type": "markdown",
   "metadata": {}
  },
  {
   "cell_type": "code",
   "execution_count": 47,
   "metadata": {},
   "outputs": [
    {
     "output_type": "execute_result",
     "data": {
      "text/plain": [
       "array([0.25443687550860849544, 0.00000000000000212016,\n",
       "       0.56604291467404710403, 0.17952020981734231886])"
      ]
     },
     "metadata": {},
     "execution_count": 47
    }
   ],
   "source": [
    "erk.gmv(cov)"
   ]
  },
  {
   "source": [
    "### MSR"
   ],
   "cell_type": "markdown",
   "metadata": {}
  },
  {
   "cell_type": "code",
   "execution_count": 41,
   "metadata": {},
   "outputs": [
    {
     "output_type": "execute_result",
     "data": {
      "text/plain": [
       "array([0.00000000000000000000, 0.00000000000000069389,\n",
       "       0.99999999999999933387, 0.00000000000000008327])"
      ]
     },
     "metadata": {},
     "execution_count": 41
    }
   ],
   "source": [
    "erk.msr(riskfree_rate, er, cov)"
   ]
  },
  {
   "cell_type": "code",
   "execution_count": null,
   "metadata": {},
   "outputs": [],
   "source": []
  }
 ],
 "metadata": {
  "kernelspec": {
   "display_name": "Python 3",
   "language": "python",
   "name": "python3"
  },
  "language_info": {
   "codemirror_mode": {
    "name": "ipython",
    "version": 3
   },
   "file_extension": ".py",
   "mimetype": "text/x-python",
   "name": "python",
   "nbconvert_exporter": "python",
   "pygments_lexer": "ipython3",
   "version": "3.8.3-final"
  }
 },
 "nbformat": 4,
 "nbformat_minor": 4
}