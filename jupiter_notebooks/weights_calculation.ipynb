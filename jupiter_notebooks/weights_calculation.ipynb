{
 "cells": [
  {
   "cell_type": "code",
   "execution_count": 1,
   "metadata": {},
   "outputs": [],
   "source": [
    "%load_ext autoreload\n",
    "%autoreload 2\n",
    "%matplotlib inline\n",
    "\n",
    "import pandas as pd\n",
    "import numpy as np\n",
    "import os,sys,inspect\n",
    "\n",
    "current_dir = os.path.dirname(os.path.abspath(inspect.getfile(inspect.currentframe())))\n",
    "parent_dir = os.path.dirname(current_dir)\n",
    "sys.path.insert(0, parent_dir)\n",
    "\n",
    "import ipywidgets as widgets\n",
    "from IPython.display import display"
   ]
  },
  {
   "cell_type": "code",
   "execution_count": 2,
   "metadata": {},
   "outputs": [],
   "source": [
    "pd.set_option('display.float_format', lambda x: '%.5f' % x)"
   ]
  },
  {
   "cell_type": "code",
   "execution_count": 3,
   "metadata": {},
   "outputs": [],
   "source": [
    "from db.models import TickerReturn, Ticker\n",
    "from db.configuration import database_connection"
   ]
  },
  {
   "cell_type": "code",
   "execution_count": 4,
   "metadata": {},
   "outputs": [],
   "source": [
    "import pendulum\n",
    "start_period = pendulum.naive(2019, 10, 1)"
   ]
  },
  {
   "cell_type": "code",
   "execution_count": 62,
   "metadata": {},
   "outputs": [],
   "source": [
    "tickers_list = [\"SHOP\", \"AC.TO\", \"MU\", \"PHM\", \"ENB\", \"IBKR\", \n",
    "                \"MSFT\", \"AAPL\", \"SPY\", \"TSLA\", \"SHOP.TO\", \"BABA\", \"PFE\"]\n",
    "tickers_list = [\"T.TO\", \"BB\", \"ATD-B.TO\", \"REAL.TO\", \"QTRH.TO\", \"DRM.TO\", \"MX.TO\", \"KEY.TO\", \"FTT.TO\", \"BAM-A.TO\", \"BYD.TO\", \n",
    "                \"L\", \"ADSK\", \"FSLY\", \"ANET\", \"ASML\", \"BERY\", \"BWA\", \"SCHW\", \"FLGT\", \"WAL\", \"TWTR\", \"SHOP\"]\n",
    "exlist = tickers_list"
   ]
  },
  {
   "cell_type": "code",
   "execution_count": 63,
   "metadata": {},
   "outputs": [],
   "source": [
    "tickers = Ticker.select().where(Ticker.ticker.in_(exlist))\n",
    "base_query = TickerReturn.select(\n",
    "    TickerReturn.datetime,\n",
    "    TickerReturn.close,\n",
    ").where(\n",
    "    TickerReturn.interval == '1d',\n",
    "    TickerReturn.datetime > start_period\n",
    ").order_by(\n",
    "    TickerReturn.datetime.asc()\n",
    ").join(Ticker)"
   ]
  },
  {
   "cell_type": "code",
   "execution_count": 64,
   "metadata": {},
   "outputs": [
    {
     "name": "stdout",
     "output_type": "stream",
     "text": [
      "T.TO\n",
      "(311, 1)\n",
      "BB\n",
      "(312, 1)\n",
      "ATD-B.TO\n",
      "(310, 1)\n",
      "REAL.TO\n",
      "(311, 1)\n",
      "QTRH.TO\n",
      "(311, 1)\n",
      "DRM.TO\n",
      "(311, 1)\n",
      "MX.TO\n",
      "(311, 1)\n",
      "KEY.TO\n",
      "(311, 1)\n",
      "FTT.TO\n",
      "(311, 1)\n",
      "BAM-A.TO\n",
      "(311, 1)\n",
      "BYD.TO\n",
      "(311, 1)\n",
      "L\n",
      "(312, 1)\n",
      "ADSK\n",
      "(312, 1)\n",
      "FSLY\n",
      "(312, 1)\n",
      "ANET\n",
      "(312, 1)\n",
      "ASML\n",
      "(312, 1)\n",
      "BERY\n",
      "(312, 1)\n",
      "BWA\n",
      "(312, 1)\n",
      "SCHW\n",
      "(312, 1)\n",
      "FLGT\n",
      "(312, 1)\n",
      "WAL\n",
      "(312, 1)\n",
      "TWTR\n",
      "(312, 1)\n",
      "SHOP\n",
      "(312, 1)\n"
     ]
    }
   ],
   "source": [
    "dataframes = []\n",
    "for ticker in exlist:\n",
    "    ticker_query = base_query.where(TickerReturn.ticker == Ticker.get(Ticker.ticker == ticker))\n",
    "    dataframe = pd.read_sql(ticker_query.sql()[0], database_connection(),\n",
    "        params=ticker_query.sql()[1],\n",
    "        index_col='datetime'\n",
    "    )\n",
    "    df = pd.DataFrame({ticker: dataframe.close}, index=dataframe.index)\n",
    "    print(ticker)\n",
    "    print(df.shape)\n",
    "    dataframes.append(df)\n",
    "dataframes = pd.concat(dataframes, axis=1) #.dropna()"
   ]
  },
  {
   "cell_type": "code",
   "execution_count": 65,
   "metadata": {},
   "outputs": [],
   "source": [
    "ticker_returns = dataframes.pct_change().dropna()"
   ]
  },
  {
   "cell_type": "code",
   "execution_count": 66,
   "metadata": {},
   "outputs": [],
   "source": [
    "from pypfopt import EfficientFrontier\n",
    "from pypfopt import risk_models\n",
    "from pypfopt import expected_returns"
   ]
  },
  {
   "cell_type": "code",
   "execution_count": 67,
   "metadata": {},
   "outputs": [],
   "source": [
    "mu = expected_returns.return_model(dataframes, method=\"capm_return\")\n",
    "S = risk_models.risk_matrix(dataframes, method=\"oracle_approximating\")"
   ]
  },
  {
   "cell_type": "code",
   "execution_count": 68,
   "metadata": {},
   "outputs": [],
   "source": [
    "ef = EfficientFrontier(mu, S)"
   ]
  },
  {
   "cell_type": "code",
   "execution_count": 69,
   "metadata": {},
   "outputs": [],
   "source": [
    "raw_weights = ef.max_sharpe()\n",
    "cleaned_weights = ef.clean_weights()"
   ]
  },
  {
   "cell_type": "code",
   "execution_count": 70,
   "metadata": {},
   "outputs": [
    {
     "data": {
      "text/plain": [
       "OrderedDict([('T.TO', 0.04134),\n",
       "             ('BB', 0.04426),\n",
       "             ('ATD-B.TO', 0.04257),\n",
       "             ('REAL.TO', 0.04386),\n",
       "             ('QTRH.TO', 0.04237),\n",
       "             ('DRM.TO', 0.04257),\n",
       "             ('MX.TO', 0.04421),\n",
       "             ('KEY.TO', 0.04473),\n",
       "             ('FTT.TO', 0.04291),\n",
       "             ('BAM-A.TO', 0.04507),\n",
       "             ('BYD.TO', 0.0423),\n",
       "             ('L', 0.04385),\n",
       "             ('ADSK', 0.0442),\n",
       "             ('FSLY', 0.04354),\n",
       "             ('ANET', 0.04336),\n",
       "             ('ASML', 0.04321),\n",
       "             ('BERY', 0.0428),\n",
       "             ('BWA', 0.04271),\n",
       "             ('SCHW', 0.04397),\n",
       "             ('FLGT', 0.04404),\n",
       "             ('WAL', 0.04422),\n",
       "             ('TWTR', 0.04389),\n",
       "             ('SHOP', 0.04407)])"
      ]
     },
     "execution_count": 70,
     "metadata": {},
     "output_type": "execute_result"
    }
   ],
   "source": [
    "cleaned_weights"
   ]
  },
  {
   "cell_type": "code",
   "execution_count": 71,
   "metadata": {},
   "outputs": [
    {
     "name": "stdout",
     "output_type": "stream",
     "text": [
      "Expected annual return: 57.0%\n",
      "Annual volatility: 34.1%\n",
      "Sharpe Ratio: 1.61\n"
     ]
    },
    {
     "data": {
      "text/plain": [
       "(0.57004789912454, 0.3409679778846534, 1.6131951819552293)"
      ]
     },
     "execution_count": 71,
     "metadata": {},
     "output_type": "execute_result"
    }
   ],
   "source": [
    "ef.portfolio_performance(verbose=True)"
   ]
  },
  {
   "cell_type": "code",
   "execution_count": 77,
   "metadata": {},
   "outputs": [
    {
     "name": "stdout",
     "output_type": "stream",
     "text": [
      "Leftover: $5.24\n"
     ]
    },
    {
     "data": {
      "text/plain": [
       "ADSK          2\n",
       "ANET          2\n",
       "ASML          1\n",
       "ATD-B.TO     10\n",
       "BAM-A.TO      9\n",
       "BB           63\n",
       "BERY          8\n",
       "BWA          11\n",
       "BYD.TO        2\n",
       "DRM.TO       20\n",
       "FLGT         10\n",
       "FSLY          5\n",
       "FTT.TO       16\n",
       "KEY.TO       20\n",
       "L            10\n",
       "MX.TO         7\n",
       "QTRH.TO     168\n",
       "REAL.TO      22\n",
       "SCHW          8\n",
       "T.TO         16\n",
       "TWTR          8\n",
       "WAL           7\n",
       "dtype: int64"
      ]
     },
     "execution_count": 77,
     "metadata": {},
     "output_type": "execute_result"
    }
   ],
   "source": [
    "from pypfopt import DiscreteAllocation\n",
    "\n",
    "da = DiscreteAllocation(cleaned_weights, dataframes.iloc[-1], total_portfolio_value=10000)\n",
    "alloc, leftover = da.lp_portfolio()\n",
    "print(f\"Leftover: ${leftover:.2f}\")\n",
    "pd.Series(alloc).sort_index()"
   ]
  },
  {
   "cell_type": "code",
   "execution_count": null,
   "metadata": {},
   "outputs": [],
   "source": []
  }
 ],
 "metadata": {
  "kernelspec": {
   "display_name": "Python 3",
   "language": "python",
   "name": "python3"
  },
  "language_info": {
   "codemirror_mode": {
    "name": "ipython",
    "version": 3
   },
   "file_extension": ".py",
   "mimetype": "text/x-python",
   "name": "python",
   "nbconvert_exporter": "python",
   "pygments_lexer": "ipython3",
   "version": "3.8.7"
  }
 },
 "nbformat": 4,
 "nbformat_minor": 4
}
