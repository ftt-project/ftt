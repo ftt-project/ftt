{
 "cells": [
  {
   "cell_type": "code",
   "execution_count": 1,
   "metadata": {},
   "outputs": [],
   "source": [
    "%load_ext autoreload\n",
    "%autoreload 2\n",
    "%matplotlib inline\n",
    "\n",
    "import pandas as pd\n",
    "import numpy as np\n",
    "import os,sys,inspect\n",
    "\n",
    "current_dir = os.path.dirname(os.path.abspath(inspect.getfile(inspect.currentframe())))\n",
    "parent_dir = os.path.dirname(current_dir)\n",
    "sys.path.insert(0, parent_dir)\n",
    "\n",
    "import ipywidgets as widgets\n",
    "from IPython.display import display"
   ]
  },
  {
   "cell_type": "code",
   "execution_count": 2,
   "metadata": {},
   "outputs": [],
   "source": [
    "pd.set_option('display.float_format', lambda x: '%.5f' % x)"
   ]
  },
  {
   "cell_type": "code",
   "execution_count": 3,
   "metadata": {},
   "outputs": [],
   "source": [
    "from db.models import TickerReturn, Ticker\n",
    "from db.configuration import database_connection"
   ]
  },
  {
   "cell_type": "code",
   "execution_count": 4,
   "metadata": {},
   "outputs": [],
   "source": [
    "import pendulum\n",
    "start_period = pendulum.naive(2019, 10, 1)"
   ]
  },
  {
   "cell_type": "code",
   "execution_count": 5,
   "metadata": {},
   "outputs": [],
   "source": [
    "tickers_list = [\"T.TO\", \"BB\", \"ATD-B.TO\", \"REAL.TO\", \"QTRH.TO\", \"DRM.TO\", \"MX.TO\", \"KEY.TO\", \"FTT.TO\", \"BAM-A.TO\", \"BYD.TO\", \n",
    "                \"L\", \"ADSK\", \"FSLY\", \"ANET\", \"ASML\", \"BERY\", \"BWA\", \"SCHW\", \"FLGT\", \"WAL\", \"TWTR\", \"SHOP\"]\n",
    "exlist = tickers_list"
   ]
  },
  {
   "cell_type": "code",
   "execution_count": 6,
   "metadata": {},
   "outputs": [],
   "source": [
    "from trade.configuration import Configuration\n",
    "exlist = Configuration().scrape().tickers"
   ]
  },
  {
   "cell_type": "code",
   "execution_count": 7,
   "metadata": {},
   "outputs": [],
   "source": [
    "tickers = Ticker.select().where(Ticker.ticker.in_(exlist))\n",
    "base_query = TickerReturn.select(\n",
    "    TickerReturn.datetime,\n",
    "    TickerReturn.close,\n",
    ").where(\n",
    "    TickerReturn.interval == '1d',\n",
    "    TickerReturn.datetime > start_period\n",
    ").order_by(\n",
    "    TickerReturn.datetime.asc()\n",
    ").join(Ticker)"
   ]
  },
  {
   "cell_type": "code",
   "execution_count": 8,
   "metadata": {},
   "outputs": [
    {
     "name": "stdout",
     "output_type": "stream",
     "text": [
      "T.TO\n",
      "(324, 1)\n",
      "BB\n",
      "(324, 1)\n",
      "ATD-B.TO\n",
      "(323, 1)\n",
      "REAL.TO\n",
      "(324, 1)\n",
      "QTRH.TO\n",
      "(324, 1)\n",
      "DRM.TO\n",
      "(324, 1)\n",
      "MX.TO\n",
      "(324, 1)\n",
      "KEY.TO\n",
      "(324, 1)\n",
      "FTT.TO\n",
      "(324, 1)\n",
      "BAM-A.TO\n",
      "(324, 1)\n",
      "BYD.TO\n",
      "(324, 1)\n",
      "L\n",
      "(324, 1)\n",
      "ADSK\n",
      "(324, 1)\n",
      "FSLY\n",
      "(324, 1)\n",
      "ANET\n",
      "(324, 1)\n",
      "ASML\n",
      "(324, 1)\n",
      "BERY\n",
      "(324, 1)\n",
      "BWA\n",
      "(324, 1)\n",
      "SCHW\n",
      "(324, 1)\n",
      "FLGT\n",
      "(324, 1)\n",
      "WAL\n",
      "(324, 1)\n",
      "TWTR\n",
      "(324, 1)\n",
      "SHOP\n",
      "(324, 1)\n",
      "ALS.TO\n",
      "(324, 1)\n",
      "NWH-UN.TO\n",
      "(13, 1)\n",
      "WSO\n",
      "(324, 1)\n",
      "FB\n",
      "(12, 1)\n",
      "SQ\n",
      "(324, 1)\n",
      "UPWK\n",
      "(12, 1)\n",
      "SWKS\n",
      "(12, 1)\n",
      "AAPL\n",
      "(324, 1)\n",
      "AMZN\n",
      "(12, 1)\n"
     ]
    }
   ],
   "source": [
    "dataframes = []\n",
    "for ticker in exlist:\n",
    "    ticker_query = base_query.where(TickerReturn.ticker == Ticker.get(Ticker.ticker == ticker))\n",
    "    dataframe = pd.read_sql(ticker_query.sql()[0], database_connection(),\n",
    "        params=ticker_query.sql()[1],\n",
    "        index_col='datetime'\n",
    "    )\n",
    "    df = pd.DataFrame({ticker: dataframe.close}, index=dataframe.index)\n",
    "    print(ticker)\n",
    "    print(df.shape)\n",
    "    dataframes.append(df)\n",
    "dataframes = pd.concat(dataframes, axis=1) #.dropna()"
   ]
  },
  {
   "cell_type": "code",
   "execution_count": 9,
   "metadata": {},
   "outputs": [],
   "source": [
    "ticker_returns = dataframes.pct_change().dropna()"
   ]
  },
  {
   "cell_type": "code",
   "execution_count": 10,
   "metadata": {},
   "outputs": [],
   "source": [
    "from pypfopt import EfficientFrontier\n",
    "from pypfopt import risk_models\n",
    "from pypfopt import expected_returns"
   ]
  },
  {
   "cell_type": "code",
   "execution_count": 11,
   "metadata": {},
   "outputs": [],
   "source": [
    "mu = expected_returns.return_model(dataframes, method=\"capm_return\")\n",
    "S = risk_models.risk_matrix(dataframes, method=\"oracle_approximating\")"
   ]
  },
  {
   "cell_type": "code",
   "execution_count": 12,
   "metadata": {},
   "outputs": [],
   "source": [
    "ef = EfficientFrontier(mu, S)"
   ]
  },
  {
   "cell_type": "code",
   "execution_count": 13,
   "metadata": {},
   "outputs": [],
   "source": [
    "raw_weights = ef.max_sharpe()\n",
    "cleaned_weights = ef.clean_weights()"
   ]
  },
  {
   "cell_type": "code",
   "execution_count": 14,
   "metadata": {},
   "outputs": [
    {
     "data": {
      "text/plain": [
       "OrderedDict([('T.TO', 0.00868),\n",
       "             ('BB', 0.00198),\n",
       "             ('ATD-B.TO', 0.00662),\n",
       "             ('REAL.TO', 0.0),\n",
       "             ('QTRH.TO', 0.00183),\n",
       "             ('DRM.TO', 0.0),\n",
       "             ('MX.TO', 0.01447),\n",
       "             ('KEY.TO', 0.00027),\n",
       "             ('FTT.TO', 0.0),\n",
       "             ('BAM-A.TO', 0.00703),\n",
       "             ('BYD.TO', 0.00037),\n",
       "             ('L', 0.00261),\n",
       "             ('ADSK', 0.0),\n",
       "             ('FSLY', 0.00413),\n",
       "             ('ANET', 0.00799),\n",
       "             ('ASML', 0.0),\n",
       "             ('BERY', 0.00675),\n",
       "             ('BWA', 0.01023),\n",
       "             ('SCHW', 0.0),\n",
       "             ('FLGT', 0.0037),\n",
       "             ('WAL', 0.00254),\n",
       "             ('TWTR', 0.0),\n",
       "             ('SHOP', 0.0),\n",
       "             ('ALS.TO', 0.0),\n",
       "             ('NWH-UN.TO', 0.07056),\n",
       "             ('WSO', 0.0016),\n",
       "             ('FB', 0.18739),\n",
       "             ('SQ', 0.01382),\n",
       "             ('UPWK', 0.32006),\n",
       "             ('SWKS', 0.19899),\n",
       "             ('AAPL', 0.0),\n",
       "             ('AMZN', 0.12835)])"
      ]
     },
     "execution_count": 14,
     "metadata": {},
     "output_type": "execute_result"
    }
   ],
   "source": [
    "cleaned_weights"
   ]
  },
  {
   "cell_type": "code",
   "execution_count": 15,
   "metadata": {},
   "outputs": [
    {
     "name": "stdout",
     "output_type": "stream",
     "text": [
      "Expected annual return: 49.0%\n",
      "Annual volatility: 9.2%\n",
      "Sharpe Ratio: 5.09\n"
     ]
    },
    {
     "data": {
      "text/plain": [
       "(0.49008951866822065, 0.09233637443316621, 5.091054544365667)"
      ]
     },
     "execution_count": 15,
     "metadata": {},
     "output_type": "execute_result"
    }
   ],
   "source": [
    "ef.portfolio_performance(verbose=True)"
   ]
  },
  {
   "cell_type": "code",
   "execution_count": 16,
   "metadata": {},
   "outputs": [
    {
     "name": "stdout",
     "output_type": "stream",
     "text": [
      "Leftover: $17.62\n"
     ]
    },
    {
     "data": {
      "text/plain": [
       "ANET          1\n",
       "ATD-B.TO      2\n",
       "BAM-A.TO      2\n",
       "BB            2\n",
       "BERY          2\n",
       "BWA           3\n",
       "FB            8\n",
       "FLGT          1\n",
       "FSLY          1\n",
       "KEY.TO        1\n",
       "L             1\n",
       "MX.TO         4\n",
       "NWH-UN.TO    54\n",
       "QTRH.TO       7\n",
       "SQ            1\n",
       "SWKS         11\n",
       "T.TO          4\n",
       "UPWK         68\n",
       "WAL           1\n",
       "WSO           1\n",
       "dtype: int64"
      ]
     },
     "execution_count": 16,
     "metadata": {},
     "output_type": "execute_result"
    }
   ],
   "source": [
    "from pypfopt import DiscreteAllocation\n",
    "\n",
    "da = DiscreteAllocation(cleaned_weights, dataframes.iloc[-1], total_portfolio_value=10000)\n",
    "alloc, leftover = da.lp_portfolio()\n",
    "print(f\"Leftover: ${leftover:.2f}\")\n",
    "pd.Series(alloc).sort_index()"
   ]
  },
  {
   "cell_type": "code",
   "execution_count": null,
   "metadata": {},
   "outputs": [],
   "source": []
  }
 ],
 "metadata": {
  "kernelspec": {
   "display_name": "Python 3",
   "language": "python",
   "name": "python3"
  },
  "language_info": {
   "codemirror_mode": {
    "name": "ipython",
    "version": 3
   },
   "file_extension": ".py",
   "mimetype": "text/x-python",
   "name": "python",
   "nbconvert_exporter": "python",
   "pygments_lexer": "ipython3",
   "version": "3.9.1"
  }
 },
 "nbformat": 4,
 "nbformat_minor": 4
}
