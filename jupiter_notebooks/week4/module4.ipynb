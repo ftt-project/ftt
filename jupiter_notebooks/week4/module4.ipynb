{
 "metadata": {
  "language_info": {
   "codemirror_mode": {
    "name": "ipython",
    "version": 3
   },
   "file_extension": ".py",
   "mimetype": "text/x-python",
   "name": "python",
   "nbconvert_exporter": "python",
   "pygments_lexer": "ipython3",
   "version": "3.8.3-final"
  },
  "orig_nbformat": 2,
  "kernelspec": {
   "name": "python3",
   "display_name": "Python 3",
   "language": "python"
  }
 },
 "nbformat": 4,
 "nbformat_minor": 2,
 "cells": [
  {
   "cell_type": "code",
   "execution_count": 1,
   "metadata": {},
   "outputs": [],
   "source": [
    "%load_ext autoreload\n",
    "%autoreload 2\n",
    "%matplotlib inline\n",
    "\n",
    "import pandas as pd\n",
    "import numpy as np\n",
    "import os,sys,inspect\n",
    "\n",
    "current_dir = os.path.dirname(os.path.abspath(inspect.getfile(inspect.currentframe())))\n",
    "parent_dir = os.path.dirname(current_dir)\n",
    "sys.path.insert(0, parent_dir)\n",
    "import edhec_risk_kit as erk\n",
    "\n",
    "import ipywidgets as widgets\n",
    "from IPython.display import display"
   ]
  },
  {
   "source": [
    "# Question 1"
   ],
   "cell_type": "markdown",
   "metadata": {}
  },
  {
   "cell_type": "code",
   "execution_count": 2,
   "metadata": {},
   "outputs": [],
   "source": [
    "b1 = erk.bond_price(15, 1000, .05, 2, .05)\n",
    "b2 = erk.bond_price(5, 1000, .06, 4, .05)\n",
    "b3 = erk.bond_price(10, 1000, 0, 1, .05)"
   ]
  },
  {
   "cell_type": "code",
   "execution_count": 4,
   "metadata": {},
   "outputs": [
    {
     "output_type": "execute_result",
     "data": {
      "text/plain": [
       "(0    1000.0\n",
       " dtype: float64,\n",
       " 0    1043.99829\n",
       " dtype: float64,\n",
       " 0    613.913254\n",
       " dtype: float64)"
      ]
     },
     "metadata": {},
     "execution_count": 4
    }
   ],
   "source": [
    "b1, b2, b3"
   ]
  },
  {
   "source": [
    "### Answer: B2"
   ],
   "cell_type": "markdown",
   "metadata": {}
  },
  {
   "source": [
    "# Question 2"
   ],
   "cell_type": "markdown",
   "metadata": {}
  },
  {
   "source": [
    "### Answer B3"
   ],
   "cell_type": "markdown",
   "metadata": {}
  },
  {
   "source": [
    "# Question 3"
   ],
   "cell_type": "markdown",
   "metadata": {}
  },
  {
   "source": [
    "### Answer: 613.91"
   ],
   "cell_type": "markdown",
   "metadata": {}
  },
  {
   "source": [
    "# Question 4"
   ],
   "cell_type": "markdown",
   "metadata": {}
  },
  {
   "cell_type": "code",
   "execution_count": 14,
   "metadata": {},
   "outputs": [
    {
     "output_type": "execute_result",
     "data": {
      "text/plain": [
       "            0\n",
       "B1  10.726775\n",
       "B2   4.373363\n",
       "B3  10.000000"
      ],
      "text/html": "<div>\n<style scoped>\n    .dataframe tbody tr th:only-of-type {\n        vertical-align: middle;\n    }\n\n    .dataframe tbody tr th {\n        vertical-align: top;\n    }\n\n    .dataframe thead th {\n        text-align: right;\n    }\n</style>\n<table border=\"1\" class=\"dataframe\">\n  <thead>\n    <tr style=\"text-align: right;\">\n      <th></th>\n      <th>0</th>\n    </tr>\n  </thead>\n  <tbody>\n    <tr>\n      <th>B1</th>\n      <td>10.726775</td>\n    </tr>\n    <tr>\n      <th>B2</th>\n      <td>4.373363</td>\n    </tr>\n    <tr>\n      <th>B3</th>\n      <td>10.000000</td>\n    </tr>\n  </tbody>\n</table>\n</div>"
     },
     "metadata": {},
     "execution_count": 14
    }
   ],
   "source": [
    "b1_flow = erk.bond_cash_flows(15, 1000,  .05, 2)\n",
    "b2_flow = erk.bond_cash_flows(5, 1000,  .06, 4)\n",
    "b3_flow = erk.bond_cash_flows(10, 1000,  0, 1)\n",
    "\n",
    "b1_duration = erk.macaulay_duration(b1_flow, .05/2)/2\n",
    "b2_duration = erk.macaulay_duration(b2_flow, .05/4)/4\n",
    "b3_duration = erk.macaulay_duration(b3_flow, .05)\n",
    "\n",
    "pd.DataFrame(\n",
    "    data=[b1_duration, b2_duration, b3_duration],\n",
    "    index=[\"B1\", \"B2\", \"B3\"]\n",
    ")"
   ]
  },
  {
   "source": [
    "### Answer: B1"
   ],
   "cell_type": "markdown",
   "metadata": {}
  },
  {
   "source": [
    "# Question 5"
   ],
   "cell_type": "markdown",
   "metadata": {}
  },
  {
   "source": [
    "### Answer: B2"
   ],
   "cell_type": "markdown",
   "metadata": {}
  },
  {
   "source": [
    "# Question 6"
   ],
   "cell_type": "markdown",
   "metadata": {}
  },
  {
   "cell_type": "code",
   "execution_count": 18,
   "metadata": {},
   "outputs": [],
   "source": [
    "### Answer 4.37"
   ]
  },
  {
   "source": [
    "# Question 7"
   ],
   "cell_type": "markdown",
   "metadata": {}
  },
  {
   "cell_type": "code",
   "execution_count": 19,
   "metadata": {},
   "outputs": [
    {
     "output_type": "execute_result",
     "data": {
      "text/plain": [
       "6.750917852744651"
      ]
     },
     "metadata": {},
     "execution_count": 19
    }
   ],
   "source": [
    "liabilities = pd.Series(data = [100000, 200000, 300000], index=[3, 5, 10])\n",
    "erk.macaulay_duration(liabilities, .05)"
   ]
  },
  {
   "source": [
    "# Question 8"
   ],
   "cell_type": "markdown",
   "metadata": {}
  },
  {
   "source": [
    "* B1 is a 15 Year Bond with a Face Value of $1000 that pays a 5% coupon semi-annually (2 times a year)\n",
    "* B2 is a 5 Year Bond with a Face value of $1000 that pays a 6% coupon quarterly (4 times a year)\n",
    "* B3 is a 10 Year Zero-Coupon Bond with a Face Value of $1000 (Hint: you can still use the erk.bond_cash_flows() and erk.bond_price() by setting the coupon amount to 0% and coupons_per_year to 1)\n",
    "\n",
    "Assume the yield curve is flat at 5%.\n",
    "Duration refers to Macaulay Duration"
   ],
   "cell_type": "markdown",
   "metadata": {}
  },
  {
   "cell_type": "code",
   "execution_count": 38,
   "metadata": {},
   "outputs": [
    {
     "output_type": "execute_result",
     "data": {
      "text/plain": [
       "4.373363222636413"
      ]
     },
     "metadata": {},
     "execution_count": 38
    }
   ],
   "source": [
    "d_s = erk.macaulay_duration(erk.bond_cash_flows(5, 1000, .06, 4), .05/4)/4\n",
    "d_s"
   ]
  },
  {
   "cell_type": "code",
   "execution_count": 39,
   "metadata": {},
   "outputs": [
    {
     "output_type": "execute_result",
     "data": {
      "text/plain": [
       "10.72677495379012"
      ]
     },
     "metadata": {},
     "execution_count": 39
    }
   ],
   "source": [
    "d_l = erk.macaulay_duration(erk.bond_cash_flows(15, 1000, .05, 2), .05/2)/2\n",
    "d_l "
   ]
  },
  {
   "cell_type": "code",
   "execution_count": 41,
   "metadata": {},
   "outputs": [
    {
     "output_type": "execute_result",
     "data": {
      "text/plain": [
       "6.750917852744651"
      ]
     },
     "metadata": {},
     "execution_count": 41
    }
   ],
   "source": [
    "d_t = erk.macaulay_duration(liabilities, .05)\n",
    "d_t"
   ]
  },
  {
   "cell_type": "code",
   "execution_count": 42,
   "metadata": {},
   "outputs": [
    {
     "output_type": "execute_result",
     "data": {
      "text/plain": [
       "0.6257830075060314"
      ]
     },
     "metadata": {},
     "execution_count": 42
    }
   ],
   "source": [
    "(d_l - d_t)/(d_l - d_s)"
   ]
  },
  {
   "source": [
    "# Question 9"
   ],
   "cell_type": "markdown",
   "metadata": {}
  },
  {
   "source": [
    "### Answer: ~~any~~"
   ],
   "cell_type": "markdown",
   "metadata": {}
  },
  {
   "cell_type": "code",
   "execution_count": 47,
   "metadata": {},
   "outputs": [],
   "source": [
    "d_s = erk.macaulay_duration(erk.bond_cash_flows(15, 1000, .05, 2), .05/2)/2\n",
    "d_l = erk.macaulay_duration(erk.bond_cash_flows(10, 1000, 0, 1), .05)"
   ]
  },
  {
   "cell_type": "code",
   "execution_count": 48,
   "metadata": {},
   "outputs": [
    {
     "output_type": "execute_result",
     "data": {
      "text/plain": [
       "-4.470547767656877"
      ]
     },
     "metadata": {},
     "execution_count": 48
    }
   ],
   "source": [
    "(d_l - d_t)/(d_l - d_s)"
   ]
  },
  {
   "source": [
    "### Answer: B1+B3"
   ],
   "cell_type": "markdown",
   "metadata": {}
  },
  {
   "source": [
    "# Question 10"
   ],
   "cell_type": "markdown",
   "metadata": {}
  },
  {
   "cell_type": "code",
   "execution_count": 44,
   "metadata": {},
   "outputs": [],
   "source": [
    "d_s = erk.macaulay_duration(erk.bond_cash_flows(5, 1000, .06, 4), .05/4)/4\n",
    "d_l = erk.macaulay_duration(erk.bond_cash_flows(10, 1000, 0, 1), .05)"
   ]
  },
  {
   "cell_type": "code",
   "execution_count": 45,
   "metadata": {},
   "outputs": [
    {
     "output_type": "execute_result",
     "data": {
      "text/plain": [
       "0.5774465770256697"
      ]
     },
     "metadata": {},
     "execution_count": 45
    }
   ],
   "source": [
    "(d_l - d_t)/(d_l - d_s)"
   ]
  },
  {
   "cell_type": "code",
   "execution_count": null,
   "metadata": {},
   "outputs": [],
   "source": []
  }
 ]
}