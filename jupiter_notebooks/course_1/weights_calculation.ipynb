{
 "cells": [
  {
   "cell_type": "code",
   "execution_count": 1,
   "metadata": {},
   "outputs": [],
   "source": [
    "%load_ext autoreload\n",
    "%autoreload 2\n",
    "%matplotlib inline\n",
    "\n",
    "import pandas as pd\n",
    "import numpy as np\n",
    "import os,sys,inspect\n",
    "\n",
    "current_dir = os.path.dirname(os.path.abspath(inspect.getfile(inspect.currentframe())))\n",
    "parent_dir = os.path.dirname(current_dir)\n",
    "sys.path.insert(0, parent_dir)\n",
    "\n",
    "import ipywidgets as widgets\n",
    "from IPython.display import display"
   ]
  },
  {
   "cell_type": "code",
   "execution_count": 2,
   "metadata": {},
   "outputs": [],
   "source": [
    "pd.set_option('display.float_format', lambda x: '%.5f' % x)"
   ]
  },
  {
   "cell_type": "code",
   "execution_count": 3,
   "metadata": {},
   "outputs": [
    {
     "data": {
      "text/plain": [
       "True"
      ]
     },
     "execution_count": 3,
     "metadata": {},
     "output_type": "execute_result"
    }
   ],
   "source": [
    "os.environ[\"ENV_FILE\"] = '../../.env.dev'\n",
    "from trade.db import TickerReturn, Ticker\n",
    "from trade.db import DatabaseConnection\n",
    "DatabaseConnection().connect()"
   ]
  },
  {
   "cell_type": "code",
   "execution_count": 4,
   "metadata": {},
   "outputs": [],
   "source": [
    "import pendulum\n",
    "start_period = pendulum.naive(2019, 10, 1)"
   ]
  },
  {
   "cell_type": "code",
   "execution_count": 5,
   "metadata": {},
   "outputs": [],
   "source": [
    "tickers_list = [\"ATD-B.TO\", \"MTL.TO\", \"T.TO\", \"DIS\", \"ASML\", \"TSM\", \"AAPL\", \"BRK-B\", \n",
    "                \"KMI\", \"BAM-A.TO\", \"BIP-UN.TO\", \"CNI\", \"CSU.TO\", \"X.TO\", \"MA\", \"MELI\", \"NVDA\",\n",
    "               \"PYPL\", \"ASML\", \"MTY.TO\"]\n",
    "exlist = tickers_list"
   ]
  },
  {
   "cell_type": "code",
   "execution_count": 6,
   "metadata": {},
   "outputs": [],
   "source": [
    "from trade.configuration import Configuration\n",
    "exlist = Configuration().scrape().tickers"
   ]
  },
  {
   "cell_type": "code",
   "execution_count": 7,
   "metadata": {},
   "outputs": [],
   "source": [
    "tickers = Ticker.select().where(Ticker.ticker.in_(exlist))\n",
    "base_query = TickerReturn.select(\n",
    "    TickerReturn.datetime,\n",
    "    TickerReturn.close,\n",
    ").where(\n",
    "    TickerReturn.interval == '1d',\n",
    "    TickerReturn.datetime > start_period\n",
    ").order_by(\n",
    "    TickerReturn.datetime.asc()\n",
    ").join(Ticker)"
   ]
  },
  {
   "cell_type": "code",
   "execution_count": 9,
   "metadata": {},
   "outputs": [
    {
     "name": "stdout",
     "output_type": "stream",
     "text": [
      "T.TO\n",
      "(61, 1)\n",
      "BB\n",
      "(60, 1)\n",
      "ATD-B.TO\n",
      "(61, 1)\n",
      "REAL.TO\n",
      "(61, 1)\n",
      "QTRH.TO\n",
      "(61, 1)\n",
      "DRM.TO\n",
      "(61, 1)\n",
      "MX.TO\n",
      "(61, 1)\n",
      "KEY.TO\n",
      "(61, 1)\n",
      "FTT.TO\n",
      "(61, 1)\n",
      "BAM-A.TO\n",
      "(61, 1)\n",
      "BYD.TO\n",
      "(61, 1)\n",
      "L\n",
      "(60, 1)\n",
      "ADSK\n",
      "(60, 1)\n",
      "FSLY\n",
      "(60, 1)\n",
      "ANET\n",
      "(60, 1)\n",
      "ASML\n",
      "(60, 1)\n",
      "BERY\n",
      "(60, 1)\n"
     ]
    }
   ],
   "source": [
    "dataframes = []\n",
    "for ticker in exlist:\n",
    "    ticker_query = base_query.where(TickerReturn.ticker == Ticker.get(Ticker.ticker == ticker))\n",
    "    dataframe = pd.read_sql(ticker_query.sql()[0], DatabaseConnection(),\n",
    "        params=ticker_query.sql()[1],\n",
    "        index_col='datetime'\n",
    "    )\n",
    "    df = pd.DataFrame({ticker: dataframe.close}, index=dataframe.index)\n",
    "    print(ticker)\n",
    "    print(df.shape)\n",
    "    dataframes.append(df)\n",
    "dataframes = pd.concat(dataframes, axis=1) #.dropna()"
   ]
  },
  {
   "cell_type": "code",
   "execution_count": 10,
   "metadata": {},
   "outputs": [],
   "source": [
    "ticker_returns = dataframes.pct_change().dropna()"
   ]
  },
  {
   "cell_type": "code",
   "execution_count": 11,
   "metadata": {},
   "outputs": [],
   "source": [
    "from pypfopt import EfficientFrontier\n",
    "from pypfopt import risk_models\n",
    "from pypfopt import expected_returns"
   ]
  },
  {
   "cell_type": "code",
   "execution_count": 12,
   "metadata": {},
   "outputs": [],
   "source": [
    "mu = expected_returns.return_model(dataframes, method=\"capm_return\")\n",
    "S = risk_models.risk_matrix(dataframes, method=\"oracle_approximating\")"
   ]
  },
  {
   "cell_type": "code",
   "execution_count": 13,
   "metadata": {},
   "outputs": [],
   "source": [
    "ef = EfficientFrontier(mu, S)"
   ]
  },
  {
   "cell_type": "code",
   "execution_count": 14,
   "metadata": {},
   "outputs": [],
   "source": [
    "raw_weights = ef.max_sharpe()\n",
    "cleaned_weights = ef.clean_weights()"
   ]
  },
  {
   "cell_type": "code",
   "execution_count": 15,
   "metadata": {},
   "outputs": [
    {
     "data": {
      "text/plain": [
       "OrderedDict([('T.TO', 0.04126),\n",
       "             ('BB', 0.06549),\n",
       "             ('ATD-B.TO', 0.0484),\n",
       "             ('REAL.TO', 0.06305),\n",
       "             ('QTRH.TO', 0.06043),\n",
       "             ('DRM.TO', 0.04497),\n",
       "             ('MX.TO', 0.06507),\n",
       "             ('KEY.TO', 0.05389),\n",
       "             ('FTT.TO', 0.06591),\n",
       "             ('BAM-A.TO', 0.06145),\n",
       "             ('BYD.TO', 0.05272),\n",
       "             ('L', 0.05877),\n",
       "             ('ADSK', 0.07071),\n",
       "             ('FSLY', 0.06437),\n",
       "             ('ANET', 0.05728),\n",
       "             ('ASML', 0.06574),\n",
       "             ('BERY', 0.06049)])"
      ]
     },
     "execution_count": 15,
     "metadata": {},
     "output_type": "execute_result"
    }
   ],
   "source": [
    "cleaned_weights"
   ]
  },
  {
   "cell_type": "code",
   "execution_count": 16,
   "metadata": {},
   "outputs": [
    {
     "name": "stdout",
     "output_type": "stream",
     "text": [
      "Expected annual return: 21.3%\n",
      "Annual volatility: 20.1%\n",
      "Sharpe Ratio: 0.96\n"
     ]
    },
    {
     "data": {
      "text/plain": [
       "(0.21336146720668753, 0.20059264012148137, 0.9639509559751817)"
      ]
     },
     "execution_count": 16,
     "metadata": {},
     "output_type": "execute_result"
    }
   ],
   "source": [
    "ef.portfolio_performance(verbose=True)"
   ]
  },
  {
   "cell_type": "code",
   "execution_count": 17,
   "metadata": {},
   "outputs": [
    {
     "name": "stdout",
     "output_type": "stream",
     "text": [
      "Leftover: $0.26\n"
     ]
    },
    {
     "data": {
      "text/plain": [
       "ADSK          2\n",
       "ANET          2\n",
       "ASML          1\n",
       "ATD-B.TO     12\n",
       "BAM-A.TO     11\n",
       "BB           72\n",
       "BERY         10\n",
       "BYD.TO        2\n",
       "DRM.TO       20\n",
       "FSLY         10\n",
       "FTT.TO       21\n",
       "KEY.TO       21\n",
       "L            11\n",
       "MX.TO        14\n",
       "QTRH.TO     250\n",
       "REAL.TO      40\n",
       "T.TO         16\n",
       "dtype: int64"
      ]
     },
     "execution_count": 17,
     "metadata": {},
     "output_type": "execute_result"
    }
   ],
   "source": [
    "from pypfopt import DiscreteAllocation\n",
    "\n",
    "da = DiscreteAllocation(cleaned_weights, dataframes.iloc[-1], total_portfolio_value=10000)\n",
    "alloc, leftover = da.lp_portfolio()\n",
    "print(f\"Leftover: ${leftover:.2f}\")\n",
    "pd.Series(alloc).sort_index()"
   ]
  },
  {
   "cell_type": "code",
   "execution_count": null,
   "metadata": {},
   "outputs": [],
   "source": []
  },
  {
   "cell_type": "code",
   "execution_count": null,
   "metadata": {},
   "outputs": [],
   "source": []
  }
 ],
 "metadata": {
  "kernelspec": {
   "display_name": "Python 3",
   "language": "python",
   "name": "python3"
  },
  "language_info": {
   "codemirror_mode": {
    "name": "ipython",
    "version": 3
   },
   "file_extension": ".py",
   "mimetype": "text/x-python",
   "name": "python",
   "nbconvert_exporter": "python",
   "pygments_lexer": "ipython3",
   "version": "3.9.2"
  }
 },
 "nbformat": 4,
 "nbformat_minor": 4
}
