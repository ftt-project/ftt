{
 "cells": [
  {
   "cell_type": "code",
   "execution_count": 1,
   "metadata": {},
   "outputs": [],
   "source": [
    "%load_ext autoreload\n",
    "%autoreload 2\n",
    "%matplotlib inline\n",
    "\n",
    "import pandas as pd\n",
    "import numpy as np\n",
    "import os,sys,inspect\n",
    "\n",
    "current_dir = os.path.dirname(os.path.abspath(inspect.getfile(inspect.currentframe())))\n",
    "parent_dir = os.path.dirname(current_dir)\n",
    "sys.path.insert(0, parent_dir)\n",
    "\n",
    "import ipywidgets as widgets\n",
    "from IPython.display import display"
   ]
  },
  {
   "cell_type": "code",
   "execution_count": 2,
   "metadata": {},
   "outputs": [],
   "source": [
    "pd.set_option('display.float_format', lambda x: '%.5f' % x)"
   ]
  },
  {
   "cell_type": "code",
   "execution_count": 3,
   "metadata": {},
   "outputs": [
    {
     "name": "stdout",
     "output_type": "stream",
     "text": [
      "../../.env.dev\n",
      "odict_values(['trade_development', 'trade', 'trade', 'db', '5432', 'development', '.env.dev'])\n",
      "../../.env.dev\n",
      "odict_values(['trade_development', 'trade', 'trade', 'db', '5432', 'development', '.env.dev'])\n"
     ]
    },
    {
     "ename": "TypeError",
     "evalue": "establish_connection() takes 0 positional arguments but 1 was given",
     "output_type": "error",
     "traceback": [
      "\u001b[0;31m---------------------------------------------------------------------------\u001b[0m",
      "\u001b[0;31mTypeError\u001b[0m                                 Traceback (most recent call last)",
      "\u001b[0;32m<ipython-input-3-8e3e3fac9506>\u001b[0m in \u001b[0;36m<module>\u001b[0;34m\u001b[0m\n\u001b[1;32m      2\u001b[0m \u001b[0;32mfrom\u001b[0m \u001b[0mtrade\u001b[0m\u001b[0;34m.\u001b[0m\u001b[0mdb\u001b[0m \u001b[0;32mimport\u001b[0m \u001b[0mTickerReturn\u001b[0m\u001b[0;34m,\u001b[0m \u001b[0mTicker\u001b[0m\u001b[0;34m\u001b[0m\u001b[0;34m\u001b[0m\u001b[0m\n\u001b[1;32m      3\u001b[0m \u001b[0;32mfrom\u001b[0m \u001b[0mtrade\u001b[0m\u001b[0;34m.\u001b[0m\u001b[0mdb\u001b[0m \u001b[0;32mimport\u001b[0m \u001b[0mestablish_connection\u001b[0m\u001b[0;34m\u001b[0m\u001b[0;34m\u001b[0m\u001b[0m\n\u001b[0;32m----> 4\u001b[0;31m establish_connection({\n\u001b[0m\u001b[1;32m      5\u001b[0m     \u001b[0;34m\"database\"\u001b[0m\u001b[0;34m:\u001b[0m \u001b[0;34m\"trade_development\"\u001b[0m\u001b[0;34m,\u001b[0m\u001b[0;34m\u001b[0m\u001b[0;34m\u001b[0m\u001b[0m\n\u001b[1;32m      6\u001b[0m     \u001b[0;34m\"user\"\u001b[0m\u001b[0;34m:\u001b[0m \u001b[0;34m\"user\"\u001b[0m\u001b[0;34m,\u001b[0m\u001b[0;34m\u001b[0m\u001b[0;34m\u001b[0m\u001b[0m\n",
      "\u001b[0;31mTypeError\u001b[0m: establish_connection() takes 0 positional arguments but 1 was given"
     ]
    }
   ],
   "source": [
    "os.environ[\"ENV_FILE\"] = '../../.env.dev'\n",
    "from trade.db import TickerReturn, Ticker\n",
    "from trade.db import establish_connection\n",
    "establish_connection({\n",
    "    \"database\": \"trade_development\",\n",
    "    \"user\": \"user\",\n",
    "    \"password\": \"password\",\n",
    "    \"host\": \"db\",\n",
    "    \"port\": 5432\n",
    "}).connect()"
   ]
  },
  {
   "cell_type": "code",
   "execution_count": null,
   "metadata": {},
   "outputs": [],
   "source": [
    "import pendulum\n",
    "start_period = pendulum.naive(2019, 10, 1)"
   ]
  },
  {
   "cell_type": "code",
   "execution_count": null,
   "metadata": {},
   "outputs": [],
   "source": [
    "tickers_list = [\"T.TO\", \"BB\", \"ATD-B.TO\", \"REAL.TO\", \"QTRH.TO\", \"DRM.TO\", \"MX.TO\", \"KEY.TO\", \"FTT.TO\", \"BAM-A.TO\", \"BYD.TO\", \n",
    "                \"L\"]\n",
    "exlist = tickers_list"
   ]
  },
  {
   "cell_type": "code",
   "execution_count": null,
   "metadata": {},
   "outputs": [],
   "source": [
    "from trade.configuration import Configuration\n",
    "exlist = Configuration().scrape().tickers"
   ]
  },
  {
   "cell_type": "code",
   "execution_count": null,
   "metadata": {},
   "outputs": [],
   "source": [
    "tickers = Ticker.select().where(Ticker.ticker.in_(exlist))\n",
    "base_query = TickerReturn.select(\n",
    "    TickerReturn.datetime,\n",
    "    TickerReturn.close,\n",
    ").where(\n",
    "    TickerReturn.interval == '1d',\n",
    "    TickerReturn.datetime > start_period\n",
    ").order_by(\n",
    "    TickerReturn.datetime.asc()\n",
    ").join(Ticker)"
   ]
  },
  {
   "cell_type": "code",
   "execution_count": null,
   "metadata": {},
   "outputs": [],
   "source": [
    "dataframes = []\n",
    "for ticker in exlist:\n",
    "    ticker_query = base_query.where(TickerReturn.ticker == Ticker.get(Ticker.ticker == ticker))\n",
    "    dataframe = pd.read_sql(ticker_query.sql()[0], database_connection(),\n",
    "        params=ticker_query.sql()[1],\n",
    "        index_col='datetime'\n",
    "    )\n",
    "    df = pd.DataFrame({ticker: dataframe.close}, index=dataframe.index)\n",
    "    print(ticker)\n",
    "    print(df.shape)\n",
    "    dataframes.append(df)\n",
    "dataframes = pd.concat(dataframes, axis=1) #.dropna()"
   ]
  },
  {
   "cell_type": "code",
   "execution_count": null,
   "metadata": {},
   "outputs": [],
   "source": [
    "ticker_returns = dataframes.pct_change().dropna()"
   ]
  },
  {
   "cell_type": "code",
   "execution_count": null,
   "metadata": {},
   "outputs": [],
   "source": [
    "from pypfopt import EfficientFrontier\n",
    "from pypfopt import risk_models\n",
    "from pypfopt import expected_returns"
   ]
  },
  {
   "cell_type": "code",
   "execution_count": null,
   "metadata": {},
   "outputs": [],
   "source": [
    "mu = expected_returns.return_model(dataframes, method=\"capm_return\")\n",
    "S = risk_models.risk_matrix(dataframes, method=\"oracle_approximating\")"
   ]
  },
  {
   "cell_type": "code",
   "execution_count": null,
   "metadata": {},
   "outputs": [],
   "source": [
    "ef = EfficientFrontier(mu, S)"
   ]
  },
  {
   "cell_type": "code",
   "execution_count": null,
   "metadata": {},
   "outputs": [],
   "source": [
    "raw_weights = ef.max_sharpe()\n",
    "cleaned_weights = ef.clean_weights()"
   ]
  },
  {
   "cell_type": "code",
   "execution_count": null,
   "metadata": {},
   "outputs": [],
   "source": [
    "cleaned_weights"
   ]
  },
  {
   "cell_type": "code",
   "execution_count": null,
   "metadata": {},
   "outputs": [],
   "source": [
    "ef.portfolio_performance(verbose=True)"
   ]
  },
  {
   "cell_type": "code",
   "execution_count": null,
   "metadata": {},
   "outputs": [],
   "source": [
    "from pypfopt import DiscreteAllocation\n",
    "\n",
    "da = DiscreteAllocation(cleaned_weights, dataframes.iloc[-1], total_portfolio_value=10000)\n",
    "alloc, leftover = da.lp_portfolio()\n",
    "print(f\"Leftover: ${leftover:.2f}\")\n",
    "pd.Series(alloc).sort_index()"
   ]
  },
  {
   "cell_type": "code",
   "execution_count": null,
   "metadata": {},
   "outputs": [],
   "source": []
  }
 ],
 "metadata": {
  "kernelspec": {
   "display_name": "Python 3",
   "language": "python",
   "name": "python3"
  },
  "language_info": {
   "codemirror_mode": {
    "name": "ipython",
    "version": 3
   },
   "file_extension": ".py",
   "mimetype": "text/x-python",
   "name": "python",
   "nbconvert_exporter": "python",
   "pygments_lexer": "ipython3",
   "version": "3.9.2"
  }
 },
 "nbformat": 4,
 "nbformat_minor": 4
}
