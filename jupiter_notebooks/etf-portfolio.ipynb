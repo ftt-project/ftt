{
 "cells": [
  {
   "cell_type": "code",
   "execution_count": 1,
   "metadata": {},
   "outputs": [],
   "source": [
    "%load_ext autoreload\n",
    "%autoreload 2\n",
    "%matplotlib inline\n",
    "\n",
    "import pandas as pd\n",
    "import numpy as np\n",
    "import os,sys,inspect\n",
    "\n",
    "current_dir = os.path.dirname(os.path.abspath(inspect.getfile(inspect.currentframe())))\n",
    "parent_dir = os.path.dirname(current_dir)\n",
    "sys.path.insert(0, parent_dir)\n",
    "\n",
    "import ipywidgets as widgets\n",
    "from IPython.display import display\n",
    "\n",
    "import yfinance as yf\n",
    "from pandas_datareader import data as web"
   ]
  },
  {
   "cell_type": "code",
   "execution_count": 2,
   "metadata": {},
   "outputs": [],
   "source": [
    "pd.set_option('display.float_format', lambda x: '%.5f' % x)"
   ]
  },
  {
   "cell_type": "code",
   "execution_count": 18,
   "metadata": {},
   "outputs": [],
   "source": [
    "etf_list = [\"DNL\",\n",
    "  \"SPHQ\",\n",
    "  \"VIG\",\n",
    "  \"OGIG\",\n",
    "  \"PTH\",\n",
    "  \"PTF\",\n",
    "  \"KBWY\",\n",
    "  \"KBWD\",\n",
    "  \"TADS\",\n",
    "  \"ALTY\",\n",
    "  \"SDIV\",\n",
    "  \"DIV\",\n",
    "  \"NUSI\",\n",
    "  \"WBIY\",\n",
    "  \"HEWC\",\n",
    "  \"POTX\",\n",
    "  \"IPFF\",\n",
    "  \"ZCAN\",\n",
    "  \"FLCA\",\n",
    "  \"BBCA\",\n",
    "]"
   ]
  },
  {
   "cell_type": "code",
   "execution_count": 20,
   "metadata": {},
   "outputs": [
    {
     "name": "stdout",
     "output_type": "stream",
     "text": [
      "[*********************100%***********************]  20 of 20 completed\n"
     ]
    }
   ],
   "source": [
    "data = yf.download(etf_list, period=\"ytd\")"
   ]
  },
  {
   "cell_type": "code",
   "execution_count": 10,
   "metadata": {},
   "outputs": [
    {
     "data": {
      "text/html": [
       "<div>\n",
       "<style scoped>\n",
       "    .dataframe tbody tr th:only-of-type {\n",
       "        vertical-align: middle;\n",
       "    }\n",
       "\n",
       "    .dataframe tbody tr th {\n",
       "        vertical-align: top;\n",
       "    }\n",
       "\n",
       "    .dataframe thead tr th {\n",
       "        text-align: left;\n",
       "    }\n",
       "\n",
       "    .dataframe thead tr:last-of-type th {\n",
       "        text-align: right;\n",
       "    }\n",
       "</style>\n",
       "<table border=\"1\" class=\"dataframe\">\n",
       "  <thead>\n",
       "    <tr>\n",
       "      <th></th>\n",
       "      <th colspan=\"10\" halign=\"left\">Adj Close</th>\n",
       "      <th>...</th>\n",
       "      <th colspan=\"10\" halign=\"left\">Volume</th>\n",
       "    </tr>\n",
       "    <tr>\n",
       "      <th></th>\n",
       "      <th>ALTY</th>\n",
       "      <th>DIV</th>\n",
       "      <th>DNL</th>\n",
       "      <th>KBWD</th>\n",
       "      <th>KBWY</th>\n",
       "      <th>NUSI</th>\n",
       "      <th>OGIG</th>\n",
       "      <th>PTF</th>\n",
       "      <th>PTH</th>\n",
       "      <th>SDIV</th>\n",
       "      <th>...</th>\n",
       "      <th>KBWY</th>\n",
       "      <th>NUSI</th>\n",
       "      <th>OGIG</th>\n",
       "      <th>PTF</th>\n",
       "      <th>PTH</th>\n",
       "      <th>SDIV</th>\n",
       "      <th>SPHQ</th>\n",
       "      <th>TADS</th>\n",
       "      <th>VIG</th>\n",
       "      <th>WBIY</th>\n",
       "    </tr>\n",
       "    <tr>\n",
       "      <th>Date</th>\n",
       "      <th></th>\n",
       "      <th></th>\n",
       "      <th></th>\n",
       "      <th></th>\n",
       "      <th></th>\n",
       "      <th></th>\n",
       "      <th></th>\n",
       "      <th></th>\n",
       "      <th></th>\n",
       "      <th></th>\n",
       "      <th></th>\n",
       "      <th></th>\n",
       "      <th></th>\n",
       "      <th></th>\n",
       "      <th></th>\n",
       "      <th></th>\n",
       "      <th></th>\n",
       "      <th></th>\n",
       "      <th></th>\n",
       "      <th></th>\n",
       "      <th></th>\n",
       "    </tr>\n",
       "  </thead>\n",
       "  <tbody>\n",
       "    <tr>\n",
       "      <th>2021-01-04</th>\n",
       "      <td>11.55000</td>\n",
       "      <td>16.85000</td>\n",
       "      <td>76.98000</td>\n",
       "      <td>16.27000</td>\n",
       "      <td>20.32000</td>\n",
       "      <td>27.42000</td>\n",
       "      <td>53.81000</td>\n",
       "      <td>138.61000</td>\n",
       "      <td>158.96001</td>\n",
       "      <td>12.86000</td>\n",
       "      <td>...</td>\n",
       "      <td>108800</td>\n",
       "      <td>140200</td>\n",
       "      <td>308300</td>\n",
       "      <td>68800</td>\n",
       "      <td>158200</td>\n",
       "      <td>582500</td>\n",
       "      <td>380800</td>\n",
       "      <td>4600</td>\n",
       "      <td>2700900</td>\n",
       "      <td>7500</td>\n",
       "    </tr>\n",
       "    <tr>\n",
       "      <th>2021-01-05</th>\n",
       "      <td>11.65400</td>\n",
       "      <td>16.96000</td>\n",
       "      <td>77.77000</td>\n",
       "      <td>16.40000</td>\n",
       "      <td>20.37000</td>\n",
       "      <td>27.50000</td>\n",
       "      <td>55.15000</td>\n",
       "      <td>140.11000</td>\n",
       "      <td>159.41000</td>\n",
       "      <td>12.96000</td>\n",
       "      <td>...</td>\n",
       "      <td>69900</td>\n",
       "      <td>93200</td>\n",
       "      <td>188000</td>\n",
       "      <td>32200</td>\n",
       "      <td>29700</td>\n",
       "      <td>389700</td>\n",
       "      <td>367200</td>\n",
       "      <td>48600</td>\n",
       "      <td>1376600</td>\n",
       "      <td>2900</td>\n",
       "    </tr>\n",
       "    <tr>\n",
       "      <th>2021-01-06</th>\n",
       "      <td>11.81000</td>\n",
       "      <td>17.35000</td>\n",
       "      <td>77.64000</td>\n",
       "      <td>16.93000</td>\n",
       "      <td>20.78000</td>\n",
       "      <td>27.34500</td>\n",
       "      <td>53.60000</td>\n",
       "      <td>137.49001</td>\n",
       "      <td>162.41000</td>\n",
       "      <td>13.10000</td>\n",
       "      <td>...</td>\n",
       "      <td>80000</td>\n",
       "      <td>90700</td>\n",
       "      <td>260000</td>\n",
       "      <td>37200</td>\n",
       "      <td>29500</td>\n",
       "      <td>495900</td>\n",
       "      <td>562400</td>\n",
       "      <td>3000</td>\n",
       "      <td>1871300</td>\n",
       "      <td>5800</td>\n",
       "    </tr>\n",
       "    <tr>\n",
       "      <th>2021-01-07</th>\n",
       "      <td>11.78000</td>\n",
       "      <td>17.35000</td>\n",
       "      <td>78.17000</td>\n",
       "      <td>16.98000</td>\n",
       "      <td>20.58000</td>\n",
       "      <td>27.65000</td>\n",
       "      <td>54.96000</td>\n",
       "      <td>144.44000</td>\n",
       "      <td>171.81000</td>\n",
       "      <td>13.11000</td>\n",
       "      <td>...</td>\n",
       "      <td>89500</td>\n",
       "      <td>90400</td>\n",
       "      <td>206800</td>\n",
       "      <td>16900</td>\n",
       "      <td>45800</td>\n",
       "      <td>387700</td>\n",
       "      <td>399200</td>\n",
       "      <td>5000</td>\n",
       "      <td>1415500</td>\n",
       "      <td>4700</td>\n",
       "    </tr>\n",
       "    <tr>\n",
       "      <th>2021-01-08</th>\n",
       "      <td>11.84000</td>\n",
       "      <td>17.31000</td>\n",
       "      <td>79.15000</td>\n",
       "      <td>17.00000</td>\n",
       "      <td>20.62000</td>\n",
       "      <td>27.75500</td>\n",
       "      <td>56.18000</td>\n",
       "      <td>144.71001</td>\n",
       "      <td>174.74001</td>\n",
       "      <td>13.19000</td>\n",
       "      <td>...</td>\n",
       "      <td>104200</td>\n",
       "      <td>115500</td>\n",
       "      <td>209300</td>\n",
       "      <td>25500</td>\n",
       "      <td>46400</td>\n",
       "      <td>520600</td>\n",
       "      <td>260000</td>\n",
       "      <td>900</td>\n",
       "      <td>1705500</td>\n",
       "      <td>4900</td>\n",
       "    </tr>\n",
       "  </tbody>\n",
       "</table>\n",
       "<p>5 rows × 84 columns</p>\n",
       "</div>"
      ],
      "text/plain": [
       "           Adj Close                                                        \\\n",
       "                ALTY      DIV      DNL     KBWD     KBWY     NUSI     OGIG   \n",
       "Date                                                                         \n",
       "2021-01-04  11.55000 16.85000 76.98000 16.27000 20.32000 27.42000 53.81000   \n",
       "2021-01-05  11.65400 16.96000 77.77000 16.40000 20.37000 27.50000 55.15000   \n",
       "2021-01-06  11.81000 17.35000 77.64000 16.93000 20.78000 27.34500 53.60000   \n",
       "2021-01-07  11.78000 17.35000 78.17000 16.98000 20.58000 27.65000 54.96000   \n",
       "2021-01-08  11.84000 17.31000 79.15000 17.00000 20.62000 27.75500 56.18000   \n",
       "\n",
       "                                         ...  Volume                         \\\n",
       "                 PTF       PTH     SDIV  ...    KBWY    NUSI    OGIG    PTF   \n",
       "Date                                     ...                                  \n",
       "2021-01-04 138.61000 158.96001 12.86000  ...  108800  140200  308300  68800   \n",
       "2021-01-05 140.11000 159.41000 12.96000  ...   69900   93200  188000  32200   \n",
       "2021-01-06 137.49001 162.41000 13.10000  ...   80000   90700  260000  37200   \n",
       "2021-01-07 144.44000 171.81000 13.11000  ...   89500   90400  206800  16900   \n",
       "2021-01-08 144.71001 174.74001 13.19000  ...  104200  115500  209300  25500   \n",
       "\n",
       "                                                          \n",
       "               PTH    SDIV    SPHQ   TADS      VIG  WBIY  \n",
       "Date                                                      \n",
       "2021-01-04  158200  582500  380800   4600  2700900  7500  \n",
       "2021-01-05   29700  389700  367200  48600  1376600  2900  \n",
       "2021-01-06   29500  495900  562400   3000  1871300  5800  \n",
       "2021-01-07   45800  387700  399200   5000  1415500  4700  \n",
       "2021-01-08   46400  520600  260000    900  1705500  4900  \n",
       "\n",
       "[5 rows x 84 columns]"
      ]
     },
     "execution_count": 10,
     "metadata": {},
     "output_type": "execute_result"
    }
   ],
   "source": [
    "data"
   ]
  },
  {
   "cell_type": "code",
   "execution_count": 21,
   "metadata": {},
   "outputs": [],
   "source": [
    "from pypfopt import EfficientFrontier\n",
    "from pypfopt import risk_models\n",
    "from pypfopt import expected_returns"
   ]
  },
  {
   "cell_type": "code",
   "execution_count": 25,
   "metadata": {},
   "outputs": [],
   "source": [
    "returns = data[\"Close\"].pct_change().dropna()"
   ]
  },
  {
   "cell_type": "code",
   "execution_count": 40,
   "metadata": {},
   "outputs": [],
   "source": [
    "dataframes = pd.DataFrame()\n",
    "for stock in etf_list:\n",
    "   dataframes[stock] = data['Adj Close'][stock]"
   ]
  },
  {
   "cell_type": "code",
   "execution_count": 41,
   "metadata": {},
   "outputs": [],
   "source": [
    "mu = expected_returns.return_model(dataframes, method=\"capm_return\")\n",
    "S = risk_models.risk_matrix(dataframes, method=\"oracle_approximating\")"
   ]
  },
  {
   "cell_type": "code",
   "execution_count": 42,
   "metadata": {},
   "outputs": [],
   "source": [
    "ef = EfficientFrontier(mu, S)"
   ]
  },
  {
   "cell_type": "code",
   "execution_count": 43,
   "metadata": {},
   "outputs": [],
   "source": [
    "raw_weights = ef.max_sharpe()\n",
    "cleaned_weights = ef.clean_weights()"
   ]
  },
  {
   "cell_type": "code",
   "execution_count": 44,
   "metadata": {},
   "outputs": [
    {
     "name": "stdout",
     "output_type": "stream",
     "text": [
      "Expected annual return: 3101.1%\n",
      "Annual volatility: 11.6%\n",
      "Sharpe Ratio: 266.10\n"
     ]
    },
    {
     "data": {
      "text/plain": [
       "(31.010669039420844, 0.11646293452369244, 266.0989881988274)"
      ]
     },
     "execution_count": 44,
     "metadata": {},
     "output_type": "execute_result"
    }
   ],
   "source": [
    "ef.portfolio_performance(verbose=True)"
   ]
  },
  {
   "cell_type": "code",
   "execution_count": 45,
   "metadata": {},
   "outputs": [
    {
     "name": "stdout",
     "output_type": "stream",
     "text": [
      "Leftover: $1.16\n"
     ]
    },
    {
     "data": {
      "text/plain": [
       "BBCA     27\n",
       "DIV      16\n",
       "FLCA     25\n",
       "HEWC     23\n",
       "IPFF     13\n",
       "KBWD     13\n",
       "NUSI      5\n",
       "OGIG      3\n",
       "POTX    198\n",
       "PTF       9\n",
       "PTH       3\n",
       "SPHQ      8\n",
       "TADS     12\n",
       "VIG       1\n",
       "WBIY     44\n",
       "ZCAN     12\n",
       "dtype: int64"
      ]
     },
     "execution_count": 45,
     "metadata": {},
     "output_type": "execute_result"
    }
   ],
   "source": [
    "from pypfopt import DiscreteAllocation\n",
    "\n",
    "da = DiscreteAllocation(cleaned_weights, dataframes.iloc[-1], total_portfolio_value=10000)\n",
    "alloc, leftover = da.lp_portfolio()\n",
    "print(f\"Leftover: ${leftover:.2f}\")\n",
    "pd.Series(alloc).sort_index()"
   ]
  },
  {
   "cell_type": "code",
   "execution_count": null,
   "metadata": {},
   "outputs": [],
   "source": []
  }
 ],
 "metadata": {
  "kernelspec": {
   "display_name": "Python 3",
   "language": "python",
   "name": "python3"
  },
  "language_info": {
   "codemirror_mode": {
    "name": "ipython",
    "version": 3
   },
   "file_extension": ".py",
   "mimetype": "text/x-python",
   "name": "python",
   "nbconvert_exporter": "python",
   "pygments_lexer": "ipython3",
   "version": "3.8.7"
  }
 },
 "nbformat": 4,
 "nbformat_minor": 4
}
