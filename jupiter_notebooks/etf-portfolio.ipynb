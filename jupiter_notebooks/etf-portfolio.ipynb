{
 "cells": [
  {
   "cell_type": "code",
   "execution_count": 1,
   "metadata": {},
   "outputs": [],
   "source": [
    "%load_ext autoreload\n",
    "%autoreload 2\n",
    "%matplotlib inline\n",
    "\n",
    "import pandas as pd\n",
    "import numpy as np\n",
    "import os,sys,inspect\n",
    "\n",
    "current_dir = os.path.dirname(os.path.abspath(inspect.getfile(inspect.currentframe())))\n",
    "parent_dir = os.path.dirname(current_dir)\n",
    "sys.path.insert(0, parent_dir)\n",
    "\n",
    "import ipywidgets as widgets\n",
    "from IPython.display import display\n",
    "\n",
    "import yfinance as yf\n",
    "from pandas_datareader import data as web"
   ]
  },
  {
   "cell_type": "code",
   "execution_count": 2,
   "metadata": {},
   "outputs": [],
   "source": [
    "pd.set_option('display.float_format', lambda x: '%.5f' % x)"
   ]
  },
  {
   "cell_type": "code",
   "execution_count": 3,
   "metadata": {},
   "outputs": [],
   "source": [
    "from trade.configuration import Configuration\n",
    "etfs = Configuration().etfs()"
   ]
  },
  {
   "cell_type": "code",
   "execution_count": 4,
   "metadata": {},
   "outputs": [
    {
     "name": "stdout",
     "output_type": "stream",
     "text": [
      "[*********************100%***********************]  30 of 30 completed\n"
     ]
    }
   ],
   "source": [
    "data = yf.download(etfs, period=\"ytd\")"
   ]
  },
  {
   "cell_type": "code",
   "execution_count": 23,
   "metadata": {},
   "outputs": [
    {
     "data": {
      "text/html": [
       "<div>\n",
       "<style scoped>\n",
       "    .dataframe tbody tr th:only-of-type {\n",
       "        vertical-align: middle;\n",
       "    }\n",
       "\n",
       "    .dataframe tbody tr th {\n",
       "        vertical-align: top;\n",
       "    }\n",
       "\n",
       "    .dataframe thead tr th {\n",
       "        text-align: left;\n",
       "    }\n",
       "\n",
       "    .dataframe thead tr:last-of-type th {\n",
       "        text-align: right;\n",
       "    }\n",
       "</style>\n",
       "<table border=\"1\" class=\"dataframe\">\n",
       "  <thead>\n",
       "    <tr>\n",
       "      <th></th>\n",
       "      <th colspan=\"10\" halign=\"left\">Adj Close</th>\n",
       "      <th>...</th>\n",
       "      <th colspan=\"10\" halign=\"left\">Volume</th>\n",
       "    </tr>\n",
       "    <tr>\n",
       "      <th></th>\n",
       "      <th>CIBR</th>\n",
       "      <th>EWC</th>\n",
       "      <th>EWY</th>\n",
       "      <th>FDIS</th>\n",
       "      <th>FDN</th>\n",
       "      <th>FLJP</th>\n",
       "      <th>FTC</th>\n",
       "      <th>FXC</th>\n",
       "      <th>GQRE</th>\n",
       "      <th>HDEF</th>\n",
       "      <th>...</th>\n",
       "      <th>SPY</th>\n",
       "      <th>VCR</th>\n",
       "      <th>VGT</th>\n",
       "      <th>VLUE</th>\n",
       "      <th>VPL</th>\n",
       "      <th>XBI</th>\n",
       "      <th>XITK</th>\n",
       "      <th>XMLV</th>\n",
       "      <th>XRT</th>\n",
       "      <th>XSD</th>\n",
       "    </tr>\n",
       "    <tr>\n",
       "      <th>Date</th>\n",
       "      <th></th>\n",
       "      <th></th>\n",
       "      <th></th>\n",
       "      <th></th>\n",
       "      <th></th>\n",
       "      <th></th>\n",
       "      <th></th>\n",
       "      <th></th>\n",
       "      <th></th>\n",
       "      <th></th>\n",
       "      <th></th>\n",
       "      <th></th>\n",
       "      <th></th>\n",
       "      <th></th>\n",
       "      <th></th>\n",
       "      <th></th>\n",
       "      <th></th>\n",
       "      <th></th>\n",
       "      <th></th>\n",
       "      <th></th>\n",
       "      <th></th>\n",
       "    </tr>\n",
       "  </thead>\n",
       "  <tbody>\n",
       "    <tr>\n",
       "      <th>2021-01-04</th>\n",
       "      <td>43.54000</td>\n",
       "      <td>30.94000</td>\n",
       "      <td>88.32000</td>\n",
       "      <td>70.65000</td>\n",
       "      <td>210.22000</td>\n",
       "      <td>29.39500</td>\n",
       "      <td>95.32000</td>\n",
       "      <td>76.92000</td>\n",
       "      <td>56.35000</td>\n",
       "      <td>23.38000</td>\n",
       "      <td>...</td>\n",
       "      <td>110210800</td>\n",
       "      <td>166700</td>\n",
       "      <td>810100</td>\n",
       "      <td>1057400</td>\n",
       "      <td>1031100</td>\n",
       "      <td>7149300</td>\n",
       "      <td>41400</td>\n",
       "      <td>355900</td>\n",
       "      <td>3460400</td>\n",
       "      <td>668800</td>\n",
       "    </tr>\n",
       "    <tr>\n",
       "      <th>2021-01-05</th>\n",
       "      <td>43.67000</td>\n",
       "      <td>31.52000</td>\n",
       "      <td>90.53000</td>\n",
       "      <td>71.45000</td>\n",
       "      <td>211.87000</td>\n",
       "      <td>29.64000</td>\n",
       "      <td>96.35000</td>\n",
       "      <td>77.61000</td>\n",
       "      <td>56.68000</td>\n",
       "      <td>23.53000</td>\n",
       "      <td>...</td>\n",
       "      <td>66426200</td>\n",
       "      <td>134000</td>\n",
       "      <td>446000</td>\n",
       "      <td>907000</td>\n",
       "      <td>427600</td>\n",
       "      <td>4499400</td>\n",
       "      <td>11100</td>\n",
       "      <td>267100</td>\n",
       "      <td>2278000</td>\n",
       "      <td>394100</td>\n",
       "    </tr>\n",
       "    <tr>\n",
       "      <th>2021-01-06</th>\n",
       "      <td>43.21000</td>\n",
       "      <td>31.81000</td>\n",
       "      <td>90.40000</td>\n",
       "      <td>72.29000</td>\n",
       "      <td>208.09000</td>\n",
       "      <td>30.05000</td>\n",
       "      <td>95.95000</td>\n",
       "      <td>77.65000</td>\n",
       "      <td>56.77000</td>\n",
       "      <td>24.01000</td>\n",
       "      <td>...</td>\n",
       "      <td>107997700</td>\n",
       "      <td>118900</td>\n",
       "      <td>780700</td>\n",
       "      <td>3376200</td>\n",
       "      <td>3223900</td>\n",
       "      <td>6561500</td>\n",
       "      <td>91000</td>\n",
       "      <td>340500</td>\n",
       "      <td>5117800</td>\n",
       "      <td>234800</td>\n",
       "    </tr>\n",
       "    <tr>\n",
       "      <th>2021-01-07</th>\n",
       "      <td>44.35000</td>\n",
       "      <td>32.15000</td>\n",
       "      <td>92.10000</td>\n",
       "      <td>73.52000</td>\n",
       "      <td>213.27000</td>\n",
       "      <td>29.97400</td>\n",
       "      <td>98.83000</td>\n",
       "      <td>77.61000</td>\n",
       "      <td>56.45000</td>\n",
       "      <td>24.05000</td>\n",
       "      <td>...</td>\n",
       "      <td>68766800</td>\n",
       "      <td>134600</td>\n",
       "      <td>558400</td>\n",
       "      <td>870800</td>\n",
       "      <td>2139900</td>\n",
       "      <td>4321300</td>\n",
       "      <td>36900</td>\n",
       "      <td>178600</td>\n",
       "      <td>1949800</td>\n",
       "      <td>172700</td>\n",
       "    </tr>\n",
       "    <tr>\n",
       "      <th>2021-01-08</th>\n",
       "      <td>44.97000</td>\n",
       "      <td>32.11000</td>\n",
       "      <td>96.22000</td>\n",
       "      <td>74.62000</td>\n",
       "      <td>215.96001</td>\n",
       "      <td>30.52000</td>\n",
       "      <td>99.82000</td>\n",
       "      <td>77.45000</td>\n",
       "      <td>56.86000</td>\n",
       "      <td>24.16000</td>\n",
       "      <td>...</td>\n",
       "      <td>71630100</td>\n",
       "      <td>168300</td>\n",
       "      <td>539600</td>\n",
       "      <td>841400</td>\n",
       "      <td>759600</td>\n",
       "      <td>4230000</td>\n",
       "      <td>32200</td>\n",
       "      <td>437800</td>\n",
       "      <td>2309000</td>\n",
       "      <td>115100</td>\n",
       "    </tr>\n",
       "  </tbody>\n",
       "</table>\n",
       "<p>5 rows × 180 columns</p>\n",
       "</div>"
      ],
      "text/plain": [
       "           Adj Close                                                         \\\n",
       "                CIBR      EWC      EWY     FDIS       FDN     FLJP      FTC   \n",
       "Date                                                                          \n",
       "2021-01-04  43.54000 30.94000 88.32000 70.65000 210.22000 29.39500 95.32000   \n",
       "2021-01-05  43.67000 31.52000 90.53000 71.45000 211.87000 29.64000 96.35000   \n",
       "2021-01-06  43.21000 31.81000 90.40000 72.29000 208.09000 30.05000 95.95000   \n",
       "2021-01-07  44.35000 32.15000 92.10000 73.52000 213.27000 29.97400 98.83000   \n",
       "2021-01-08  44.97000 32.11000 96.22000 74.62000 215.96001 30.52000 99.82000   \n",
       "\n",
       "                                       ...     Volume                  \\\n",
       "                FXC     GQRE     HDEF  ...        SPY     VCR     VGT   \n",
       "Date                                   ...                              \n",
       "2021-01-04 76.92000 56.35000 23.38000  ...  110210800  166700  810100   \n",
       "2021-01-05 77.61000 56.68000 23.53000  ...   66426200  134000  446000   \n",
       "2021-01-06 77.65000 56.77000 24.01000  ...  107997700  118900  780700   \n",
       "2021-01-07 77.61000 56.45000 24.05000  ...   68766800  134600  558400   \n",
       "2021-01-08 77.45000 56.86000 24.16000  ...   71630100  168300  539600   \n",
       "\n",
       "                                                                       \n",
       "               VLUE      VPL      XBI   XITK    XMLV      XRT     XSD  \n",
       "Date                                                                   \n",
       "2021-01-04  1057400  1031100  7149300  41400  355900  3460400  668800  \n",
       "2021-01-05   907000   427600  4499400  11100  267100  2278000  394100  \n",
       "2021-01-06  3376200  3223900  6561500  91000  340500  5117800  234800  \n",
       "2021-01-07   870800  2139900  4321300  36900  178600  1949800  172700  \n",
       "2021-01-08   841400   759600  4230000  32200  437800  2309000  115100  \n",
       "\n",
       "[5 rows x 180 columns]"
      ]
     },
     "execution_count": 23,
     "metadata": {},
     "output_type": "execute_result"
    }
   ],
   "source": [
    "data"
   ]
  },
  {
   "cell_type": "code",
   "execution_count": 24,
   "metadata": {},
   "outputs": [],
   "source": [
    "from pypfopt import EfficientFrontier\n",
    "from pypfopt import risk_models\n",
    "from pypfopt import expected_returns"
   ]
  },
  {
   "cell_type": "code",
   "execution_count": 25,
   "metadata": {},
   "outputs": [],
   "source": [
    "returns = data[\"Close\"].pct_change().dropna()"
   ]
  },
  {
   "cell_type": "code",
   "execution_count": 26,
   "metadata": {},
   "outputs": [],
   "source": [
    "dataframes = pd.DataFrame()\n",
    "for stock in etfs:\n",
    "   dataframes[stock] = data['Adj Close'][stock]"
   ]
  },
  {
   "cell_type": "code",
   "execution_count": 27,
   "metadata": {},
   "outputs": [],
   "source": [
    "mu = expected_returns.return_model(dataframes, method=\"capm_return\")"
   ]
  },
  {
   "cell_type": "code",
   "execution_count": 28,
   "metadata": {},
   "outputs": [
    {
     "data": {
      "image/png": "[encoded data removed]",
      "text/plain": [
       "<Figure size 720x360 with 1 Axes>"
      ]
     },
     "metadata": {
      "needs_background": "light"
     },
     "output_type": "display_data"
    }
   ],
   "source": [
    "mu.plot.barh(figsize=(10,5));"
   ]
  },
  {
   "cell_type": "code",
   "execution_count": 29,
   "metadata": {},
   "outputs": [],
   "source": [
    "# # Optional (filter by std quatile, not the fixed number)\n",
    "# mu = mu.where(mu > 6).dropna()\n",
    "# etfs_by_return = mu.index.to_numpy()\n",
    "# print(mu)\n",
    "# fdataframes = dataframes[etfs_by_return]\n",
    "# S = risk_models.risk_matrix(fdataframes, method=\"oracle_approximating\")\n",
    "# mu = expected_returns.return_model(fdataframes, method=\"capm_return\")\n",
    "fdataframes = dataframes"
   ]
  },
  {
   "cell_type": "code",
   "execution_count": 30,
   "metadata": {},
   "outputs": [],
   "source": [
    "ef = EfficientFrontier(mu, S)"
   ]
  },
  {
   "cell_type": "code",
   "execution_count": 31,
   "metadata": {},
   "outputs": [],
   "source": [
    "raw_weights = ef.max_sharpe()\n",
    "cleaned_weights = ef.clean_weights()"
   ]
  },
  {
   "cell_type": "code",
   "execution_count": 32,
   "metadata": {},
   "outputs": [
    {
     "name": "stdout",
     "output_type": "stream",
     "text": [
      "Expected annual return: 3346.7%\n",
      "Annual volatility: 11.3%\n",
      "Sharpe Ratio: 294.95\n"
     ]
    },
    {
     "data": {
      "text/plain": [
       "(33.46706440600467, 0.11340075390447261, 294.9456970469531)"
      ]
     },
     "execution_count": 32,
     "metadata": {},
     "output_type": "execute_result"
    }
   ],
   "source": [
    "ef.portfolio_performance(verbose=True)"
   ]
  },
  {
   "cell_type": "code",
   "execution_count": 34,
   "metadata": {},
   "outputs": [
    {
     "name": "stdout",
     "output_type": "stream",
     "text": [
      "Leftover: $9.44\n"
     ]
    },
    {
     "data": {
      "text/plain": [
       "CIBR     8\n",
       "EWC      8\n",
       "FDIS     1\n",
       "FDN      2\n",
       "FTC      5\n",
       "FXC      1\n",
       "HYG      1\n",
       "IWM      1\n",
       "JKK      2\n",
       "PXI     51\n",
       "QQQ      1\n",
       "RPV      2\n",
       "SIVR    57\n",
       "SMH      4\n",
       "SPY      1\n",
       "VGT      2\n",
       "VLUE     3\n",
       "XBI      5\n",
       "XITK     2\n",
       "XMLV     2\n",
       "XSD      5\n",
       "dtype: int64"
      ]
     },
     "execution_count": 34,
     "metadata": {},
     "output_type": "execute_result"
    }
   ],
   "source": [
    "from pypfopt import DiscreteAllocation\n",
    "\n",
    "da = DiscreteAllocation(cleaned_weights, fdataframes.iloc[-1], total_portfolio_value=10000)\n",
    "alloc, leftover = da.lp_portfolio()\n",
    "print(f\"Leftover: ${leftover:.2f}\")\n",
    "pd.Series(alloc).sort_index()"
   ]
  },
  {
   "cell_type": "code",
   "execution_count": null,
   "metadata": {},
   "outputs": [],
   "source": []
  }
 ],
 "metadata": {
  "kernelspec": {
   "display_name": "Python 3",
   "language": "python",
   "name": "python3"
  },
  "language_info": {
   "codemirror_mode": {
    "name": "ipython",
    "version": 3
   },
   "file_extension": ".py",
   "mimetype": "text/x-python",
   "name": "python",
   "nbconvert_exporter": "python",
   "pygments_lexer": "ipython3",
   "version": "3.8.7"
  }
 },
 "nbformat": 4,
 "nbformat_minor": 4
}
